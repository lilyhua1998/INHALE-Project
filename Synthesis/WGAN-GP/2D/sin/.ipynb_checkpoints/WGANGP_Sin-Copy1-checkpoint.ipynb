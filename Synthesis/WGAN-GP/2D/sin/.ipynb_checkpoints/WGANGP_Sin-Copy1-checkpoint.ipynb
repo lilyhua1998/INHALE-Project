{
 "cells": [
  {
   "cell_type": "code",
   "execution_count": 1,
   "metadata": {},
   "outputs": [],
   "source": [
    "k = 1"
   ]
  },
  {
   "cell_type": "code",
   "execution_count": 2,
   "metadata": {
    "_cell_guid": "79c7e3d0-c299-4dcb-8224-4455121ee9b0",
    "_uuid": "d629ff2d2480ee46fbb7e2d37f6b5fab8052498a",
    "colab": {},
    "colab_type": "code",
    "id": "mU7Kb8-6Qs9m"
   },
   "outputs": [],
   "source": [
    "# Common imports\n",
    "import numpy as np\n",
    "import os\n",
    "from backend import import_excel, export_excel\n",
    "\n",
    "# To plot pretty figures\n",
    "%matplotlib inline\n",
    "import matplotlib as mpl\n",
    "import matplotlib.pyplot as plt\n",
    "import matplotlib.style as style\n",
    "# style.use('bmh')\n",
    "from mpl_toolkits.mplot3d import Axes3D\n",
    "mpl.rc('axes', labelsize=14)\n",
    "mpl.rc('xtick', labelsize=12)\n",
    "mpl.rc('ytick', labelsize=12)\n",
    "\n",
    "import pandas as pd\n",
    "import seaborn as sns\n",
    "\n",
    "import tensorflow as tf\n",
    "import keras\n",
    "import random\n",
    "\n",
    "import sys\n",
    "sys.path.append(\"..\")\n",
    "from sklearn.preprocessing import *\n",
    "from sklearn.preprocessing import MinMaxScaler\n",
    "import dataset, network_2D, WGAN_Model_2D\n"
   ]
  },
  {
   "cell_type": "markdown",
   "metadata": {
    "colab_type": "text",
    "id": "37tykamPQs9o"
   },
   "source": [
    "# Load data"
   ]
  },
  {
   "cell_type": "code",
   "execution_count": 3,
   "metadata": {},
   "outputs": [
    {
     "name": "stdout",
     "output_type": "stream",
     "text": [
      "[2. 0. 0. 0. 0. 0.]\n"
     ]
    }
   ],
   "source": [
    "# Preprocessing\n",
    "vars = np.zeros((6,864))\n",
    "j = 0\n",
    "for i in range(6):\n",
    "    for i2 in range(4):\n",
    "        for i3 in range(3):\n",
    "            for i4 in range(2):\n",
    "                for i5 in range(3):\n",
    "                    for i6 in range(2):\n",
    "                        vars[0,j]=i+2\n",
    "                        vars[1,j]=i2\n",
    "                        vars[2,j]=i3\n",
    "                        vars[3,j]=i4\n",
    "                        vars[4,j]=i5\n",
    "                        vars[5,j]=i6\n",
    "                        j = j +1\n",
    "j=0\n",
    "print(vars[:,j])\n",
    "\n",
    "scenario= \"sinus\" #sinus, helix\n",
    "n_instance = 1000\n",
    "n_features = 2\n",
    "n_var =int(vars[0,j])\n",
    "latent_space =6 #3,6,12\n",
    "batchs = [10,100,1000]\n",
    "BATCH_SIZE = 100 #100, 32\n",
    "scales = ['-1-1','0-1']\n",
    "scaled = '-1-1'\n",
    "epochs = 1000 #1000\n",
    "bias = [True,False]\n",
    "use_bias = True"
   ]
  },
  {
   "cell_type": "code",
   "execution_count": 4,
   "metadata": {},
   "outputs": [
    {
     "data": {
      "image/png": "[encoded data removed]",
      "text/plain": [
       "<Figure size 432x288 with 1 Axes>"
      ]
     },
     "metadata": {
      "needs_background": "light"
     },
     "output_type": "display_data"
    }
   ],
   "source": [
    "X_train, y_train, X_test, y_test, X_valid, y_valid = dataset.get_dataset(n_instance, scenario)\n",
    "\n",
    "plt.scatter(X_train,y_train, c='orange', label='Sample Data')\n",
    "plt.ylabel('Y')\n",
    "plt.xlabel('X')\n",
    "plt.tight_layout()"
   ]
  },
  {
   "cell_type": "code",
   "execution_count": 5,
   "metadata": {},
   "outputs": [
    {
     "name": "stdout",
     "output_type": "stream",
     "text": [
      "made dataset\n"
     ]
    }
   ],
   "source": [
    "os.system('mkdir Dataset')\n",
    "os.system('mkdir GANS')\n",
    "os.system('mkdir GANS/Models')\n",
    "os.system('mkdir GANS/Losses')\n",
    "os.system('mkdir GANS/Random_test')\n",
    "export_excel(X_train, 'Dataset/X_train')\n",
    "export_excel(y_train, 'Dataset/y_train')\n",
    "\n",
    "# print(X_train.shape,y_train.shape)\n",
    "X_train = import_excel('Dataset/X_train')\n",
    "y_train = import_excel('Dataset/y_train')\n",
    "\n",
    "print('made dataset')"
   ]
  },
  {
   "cell_type": "markdown",
   "metadata": {},
   "source": [
    "# WGAN"
   ]
  },
  {
   "cell_type": "markdown",
   "metadata": {},
   "source": [
    "### Architecture"
   ]
  },
  {
   "cell_type": "code",
   "execution_count": 6,
   "metadata": {
    "scrolled": true
   },
   "outputs": [
    {
     "name": "stdout",
     "output_type": "stream",
     "text": [
      "Model: \"sequential\"\n",
      "_________________________________________________________________\n",
      "Layer (type)                 Output Shape              Param #   \n",
      "=================================================================\n",
      "dense (Dense)                (None, 30)                210       \n",
      "_________________________________________________________________\n",
      "batch_normalization (BatchNo (None, 30)                120       \n",
      "_________________________________________________________________\n",
      "dense_1 (Dense)              (None, 10)                310       \n",
      "_________________________________________________________________\n",
      "batch_normalization_1 (Batch (None, 10)                40        \n",
      "_________________________________________________________________\n",
      "dense_2 (Dense)              (None, 10)                110       \n",
      "_________________________________________________________________\n",
      "batch_normalization_2 (Batch (None, 10)                40        \n",
      "_________________________________________________________________\n",
      "dense_3 (Dense)              (None, 2)                 22        \n",
      "=================================================================\n",
      "Total params: 852\n",
      "Trainable params: 752\n",
      "Non-trainable params: 100\n",
      "_________________________________________________________________\n",
      "Model: \"sequential_1\"\n",
      "_________________________________________________________________\n",
      "Layer (type)                 Output Shape              Param #   \n",
      "=================================================================\n",
      "dense_4 (Dense)              (None, 20)                60        \n",
      "_________________________________________________________________\n",
      "re_lu (ReLU)                 (None, 20)                0         \n",
      "_________________________________________________________________\n",
      "dropout (Dropout)            (None, 20)                0         \n",
      "_________________________________________________________________\n",
      "dense_5 (Dense)              (None, 60)                1260      \n",
      "_________________________________________________________________\n",
      "re_lu_1 (ReLU)               (None, 60)                0         \n",
      "_________________________________________________________________\n",
      "dropout_1 (Dropout)          (None, 60)                0         \n",
      "_________________________________________________________________\n",
      "dense_6 (Dense)              (None, 20)                1220      \n",
      "_________________________________________________________________\n",
      "re_lu_2 (ReLU)               (None, 20)                0         \n",
      "_________________________________________________________________\n",
      "dropout_2 (Dropout)          (None, 20)                0         \n",
      "_________________________________________________________________\n",
      "flatten (Flatten)            (None, 20)                0         \n",
      "_________________________________________________________________\n",
      "dense_7 (Dense)              (None, 1)                 21        \n",
      "=================================================================\n",
      "Total params: 2,561\n",
      "Trainable params: 2,561\n",
      "Non-trainable params: 0\n",
      "_________________________________________________________________\n"
     ]
    }
   ],
   "source": [
    "generator=network_2D.build_generator(latent_space, n_var, n_features,use_bias)\n",
    "generator.summary()\n",
    "\n",
    "discriminator=network_2D.build_critic(n_var, use_bias, n_features)\n",
    "discriminator.summary()"
   ]
  },
  {
   "cell_type": "code",
   "execution_count": 7,
   "metadata": {},
   "outputs": [
    {
     "name": "stdout",
     "output_type": "stream",
     "text": [
      "Model: \"sequential_4\"\n",
      "_________________________________________________________________\n",
      "Layer (type)                 Output Shape              Param #   \n",
      "=================================================================\n",
      "sequential_2 (Sequential)    (None, 2)                 852       \n",
      "_________________________________________________________________\n",
      "sequential_3 (Sequential)    (None, 1)                 2561      \n",
      "=================================================================\n",
      "Total params: 3,413\n",
      "Trainable params: 3,313\n",
      "Non-trainable params: 100\n",
      "_________________________________________________________________\n"
     ]
    }
   ],
   "source": [
    "wgan = WGAN_Model_2D.WGAN(k,n_features,latent_space,BATCH_SIZE,n_var,use_bias)\n",
    "wgan.wgan.summary()"
   ]
  },
  {
   "cell_type": "markdown",
   "metadata": {},
   "source": [
    "### Preprocessing"
   ]
  },
  {
   "cell_type": "code",
   "execution_count": 8,
   "metadata": {},
   "outputs": [
    {
     "name": "stdout",
     "output_type": "stream",
     "text": [
      "data shape_1 (100, 2)\n",
      "data shape_2 (100, 2)\n",
      "data shape_3 (100, 2)\n",
      "data shape_4 (100, 2)\n",
      "data shape_5 (100, 2)\n",
      "data shape_6 (100, 2)\n",
      "data shape_7 (100, 2)\n",
      "data shape_8 (100, 2)\n",
      "data shape_9 (100, 2)\n",
      "data shape_10 (100, 2)\n",
      "Cycles:  10\n",
      "X_train (1000, 1)\n",
      "y_train (1000, 1)\n",
      "X_train_scaled (1000, 2)\n"
     ]
    }
   ],
   "source": [
    "train_dataset, scaler, X_train_scaled = wgan.preproc(X_train, y_train, scaled)\n",
    "\n",
    "print(\"X_train\",X_train.shape)\n",
    "print(\"y_train\",y_train.shape)\n",
    "print(\"X_train_scaled\",X_train_scaled.shape)"
   ]
  },
  {
   "cell_type": "code",
   "execution_count": 9,
   "metadata": {},
   "outputs": [
    {
     "name": "stdout",
     "output_type": "stream",
     "text": [
      "train_dataset (100, 2)\n",
      "train_dataset (100, 2)\n",
      "train_dataset (100, 2)\n",
      "train_dataset (100, 2)\n",
      "train_dataset (100, 2)\n",
      "train_dataset (100, 2)\n",
      "train_dataset (100, 2)\n",
      "train_dataset (100, 2)\n",
      "train_dataset (100, 2)\n",
      "train_dataset (100, 2)\n"
     ]
    }
   ],
   "source": [
    "for data in train_dataset:\n",
    "    print('train_dataset',data.shape)\n"
   ]
  },
  {
   "cell_type": "markdown",
   "metadata": {},
   "source": [
    "## Training"
   ]
  },
  {
   "cell_type": "code",
   "execution_count": null,
   "metadata": {},
   "outputs": [
    {
     "name": "stdout",
     "output_type": "stream",
     "text": [
      "Epoch 1/1000\n",
      "critic: 26.652969 - generator: -0.094873 - 2s\n",
      "Epoch 2/1000\n",
      "critic: 6.287945 - generator: -0.012745 - 0s\n",
      "Epoch 3/1000\n",
      "critic: 1.834015 - generator: 0.012394 - 0s\n",
      "Epoch 4/1000\n",
      "critic: 0.527653 - generator: 0.015167 - 0s\n",
      "Epoch 5/1000\n",
      "critic: 0.144464 - generator: 0.014991 - 0s\n",
      "Epoch 6/1000\n",
      "critic: 0.062824 - generator: 0.018105 - 0s\n",
      "Epoch 7/1000\n",
      "critic: 0.059135 - generator: 0.016358 - 0s\n",
      "Epoch 8/1000\n",
      "critic: 0.077743 - generator: 0.018520 - 0s\n",
      "Epoch 9/1000\n",
      "critic: 0.026541 - generator: 0.013704 - 0s\n",
      "Epoch 10/1000\n",
      "critic: 0.034119 - generator: 0.011505 - 0s\n",
      "Epoch 11/1000\n",
      "critic: 0.042659 - generator: 0.004098 - 0s\n",
      "Epoch 12/1000\n",
      "critic: 0.028941 - generator: 0.003901 - 0s\n",
      "Epoch 13/1000\n",
      "critic: 0.044521 - generator: -0.000153 - 0s\n",
      "Epoch 14/1000\n",
      "critic: 0.018550 - generator: 0.000152 - 0s\n",
      "Epoch 15/1000\n",
      "critic: 0.027825 - generator: 0.001260 - 0s\n",
      "Epoch 16/1000\n",
      "critic: 0.021922 - generator: -0.000886 - 0s\n",
      "Epoch 17/1000\n",
      "critic: 0.024329 - generator: -0.000078 - 0s\n",
      "Epoch 18/1000\n",
      "critic: 0.011011 - generator: -0.003151 - 0s\n",
      "Epoch 19/1000\n",
      "critic: 0.025745 - generator: -0.002950 - 0s\n",
      "Epoch 20/1000\n",
      "critic: 0.014698 - generator: -0.004507 - 0s\n",
      "Epoch 21/1000\n",
      "critic: 0.037710 - generator: -0.002268 - 0s\n",
      "Epoch 22/1000\n",
      "critic: 0.021946 - generator: -0.004533 - 0s\n",
      "Epoch 23/1000\n",
      "critic: 0.023316 - generator: -0.002775 - 0s\n",
      "Epoch 24/1000\n",
      "critic: 0.022354 - generator: -0.003904 - 0s\n",
      "Epoch 25/1000\n",
      "critic: 0.025879 - generator: -0.005719 - 0s\n",
      "Epoch 26/1000\n",
      "critic: 0.028935 - generator: -0.004834 - 0s\n",
      "Epoch 27/1000\n",
      "critic: 0.027421 - generator: -0.009105 - 0s\n",
      "Epoch 28/1000\n",
      "critic: 0.036760 - generator: -0.012772 - 0s\n",
      "Epoch 29/1000\n",
      "critic: 0.019482 - generator: -0.013548 - 0s\n",
      "Epoch 30/1000\n",
      "critic: 0.023072 - generator: -0.016153 - 0s\n",
      "Epoch 31/1000\n",
      "critic: 0.012466 - generator: -0.015968 - 0s\n",
      "Epoch 32/1000\n",
      "critic: 0.020233 - generator: -0.016312 - 0s\n",
      "Epoch 33/1000\n",
      "critic: 0.022868 - generator: -0.015771 - 0s\n",
      "Epoch 34/1000\n",
      "critic: 0.021576 - generator: -0.015629 - 0s\n",
      "Epoch 35/1000\n",
      "critic: 0.024560 - generator: -0.014945 - 0s\n",
      "Epoch 36/1000\n",
      "critic: 0.015251 - generator: -0.017085 - 0s\n",
      "Epoch 37/1000\n",
      "critic: 0.027502 - generator: -0.013963 - 0s\n",
      "Epoch 38/1000\n",
      "critic: 0.019280 - generator: -0.014475 - 0s\n",
      "Epoch 39/1000\n",
      "critic: 0.021903 - generator: -0.013046 - 0s\n",
      "Epoch 40/1000\n",
      "critic: 0.019744 - generator: -0.014961 - 0s\n",
      "Epoch 41/1000\n",
      "critic: 0.015747 - generator: -0.017297 - 0s\n",
      "Epoch 42/1000\n",
      "critic: 0.014276 - generator: -0.023231 - 0s\n",
      "Epoch 43/1000\n",
      "critic: 0.019424 - generator: -0.019565 - 0s\n",
      "Epoch 44/1000\n",
      "critic: 0.024709 - generator: -0.020957 - 0s\n",
      "Epoch 45/1000\n",
      "critic: 0.020688 - generator: -0.016712 - 0s\n",
      "Epoch 46/1000\n",
      "critic: 0.016858 - generator: -0.018673 - 0s\n",
      "Epoch 47/1000\n",
      "critic: 0.026724 - generator: -0.021570 - 0s\n",
      "Epoch 48/1000\n",
      "critic: 0.027393 - generator: -0.021564 - 0s\n",
      "Epoch 49/1000\n",
      "critic: 0.027801 - generator: -0.022417 - 0s\n",
      "Epoch 50/1000\n",
      "critic: 0.034269 - generator: -0.026418 - 0s\n",
      "Epoch 51/1000\n",
      "critic: 0.034656 - generator: -0.028036 - 0s\n",
      "Epoch 52/1000\n",
      "critic: 0.023601 - generator: -0.030684 - 0s\n",
      "Epoch 53/1000\n",
      "critic: 0.018568 - generator: -0.032523 - 0s\n",
      "Epoch 54/1000\n",
      "critic: 0.027867 - generator: -0.035796 - 0s\n",
      "Epoch 55/1000\n",
      "critic: 0.014635 - generator: -0.037317 - 0s\n",
      "Epoch 56/1000\n",
      "critic: 0.014375 - generator: -0.037061 - 0s\n",
      "Epoch 57/1000\n",
      "critic: 0.015338 - generator: -0.038597 - 0s\n",
      "Epoch 58/1000\n",
      "critic: 0.023115 - generator: -0.038296 - 0s\n",
      "Epoch 59/1000\n",
      "critic: 0.021956 - generator: -0.041358 - 0s\n",
      "Epoch 60/1000\n",
      "critic: 0.020829 - generator: -0.041526 - 0s\n",
      "Epoch 61/1000\n",
      "critic: 0.019498 - generator: -0.041092 - 0s\n",
      "Epoch 62/1000\n",
      "critic: 0.020023 - generator: -0.043449 - 0s\n",
      "Epoch 63/1000\n",
      "critic: 0.017595 - generator: -0.048096 - 0s\n",
      "Epoch 64/1000\n",
      "critic: 0.020757 - generator: -0.049584 - 0s\n",
      "Epoch 65/1000\n",
      "critic: 0.017522 - generator: -0.051991 - 0s\n",
      "Epoch 66/1000\n",
      "critic: 0.023619 - generator: -0.051289 - 0s\n",
      "Epoch 67/1000\n",
      "critic: 0.017879 - generator: -0.052266 - 0s\n",
      "Epoch 68/1000\n",
      "critic: 0.016381 - generator: -0.055878 - 0s\n",
      "Epoch 69/1000\n",
      "critic: 0.025747 - generator: -0.050112 - 0s\n",
      "Epoch 70/1000\n",
      "critic: 0.017536 - generator: -0.053161 - 0s\n",
      "Epoch 71/1000\n",
      "critic: 0.023633 - generator: -0.051839 - 0s\n",
      "Epoch 72/1000\n",
      "critic: 0.034331 - generator: -0.056574 - 0s\n",
      "Epoch 73/1000\n",
      "critic: 0.016084 - generator: -0.054838 - 0s\n",
      "Epoch 74/1000\n",
      "critic: 0.012937 - generator: -0.053475 - 0s\n",
      "Epoch 75/1000\n"
     ]
    }
   ],
   "source": [
    "hist = wgan.train(train_dataset, epochs, scaler, scaled, X_train, y_train)"
   ]
  },
  {
   "cell_type": "markdown",
   "metadata": {},
   "source": [
    "#### plot loss"
   ]
  },
  {
   "cell_type": "code",
   "execution_count": null,
   "metadata": {},
   "outputs": [],
   "source": [
    "k=1\n",
    "epoch = 750"
   ]
  },
  {
   "cell_type": "code",
   "execution_count": null,
   "metadata": {},
   "outputs": [],
   "source": [
    "from PIL import Image\n",
    "\n",
    "#Discriminator Loss\n",
    "loss = Image.open('GANS/Losses/GANS_loss_v'+str(k)+'_epochs'+str(epoch)+'.png')\n",
    "plt.figure(\"Loss\",figsize=[15,10])\n",
    "plt.imshow(loss)"
   ]
  },
  {
   "cell_type": "markdown",
   "metadata": {},
   "source": [
    "### Sampleing from the latent space"
   ]
  },
  {
   "cell_type": "code",
   "execution_count": null,
   "metadata": {},
   "outputs": [],
   "source": [
    "generator = keras.models.load_model('GANS/Models/generator_v'+str(k)+'_epochs_'+str(epoch)+'.h5')"
   ]
  },
  {
   "cell_type": "code",
   "execution_count": null,
   "metadata": {},
   "outputs": [],
   "source": [
    "from PIL import Image\n",
    "\n",
    "#Discriminator Loss\n",
    "result = Image.open('GANS/Result/Latent/v_'+str(k)+'_epochs_'+str(epoch)+'.png')\n",
    "plt.figure(\"Latent Space\",figsize=[15,10])\n",
    "plt.imshow(result)"
   ]
  },
  {
   "cell_type": "code",
   "execution_count": null,
   "metadata": {},
   "outputs": [],
   "source": [
    "from PIL import Image\n",
    "\n",
    "#Discriminator Loss\n",
    "countour_line = Image.open('GANS/Result/'+'countour_line_v'+str(k)+'_epochs'+str(epoch)+'.png')\n",
    "plt.figure(\"Countour Line\",figsize=[15,10])\n",
    "plt.imshow(countour_line)"
   ]
  },
  {
   "cell_type": "code",
   "execution_count": null,
   "metadata": {},
   "outputs": [],
   "source": [
    "import numpy as np\n",
    "from scipy import interpolate\n",
    "import matplotlib.pyplot as plt\n",
    "from scipy.interpolate import interp1d\n",
    "\n",
    "#sampling from the latent space without prediction\n",
    "latent_values = tf.random.normal([1000, latent_space], mean=0.0, stddev=0.1)\n",
    "        \n",
    "#predict the labels of the data values on the basis of the trained model.\n",
    "predicted_values = generator.predict(latent_values)\n",
    "\n",
    "predicted_values[:,:]=(predicted_values[:,:])\n",
    "predicted_values2 = scaler.inverse_transform(predicted_values)\n",
    "\n",
    "\n",
    "\n",
    "f1 = interp1d(predicted_values2[:,0], predicted_values2[:,1], kind = 'Quadratic')\n",
    "#f2 = interp1d(predicted_values2[:,0], predicted_values2[:,1], kind = 'cubic')\n",
    "        \n",
    "xnew = np.linspace(-3, 3, 2000)\n",
    "\n",
    "plt.plot(predicted_values2[:,0], predicted_values2[:,1], 'o', xnew, f1(xnew), '-')\n",
    "plt.legend(['data', 'linear', 'cubic','nearest'], loc = 'best')\n",
    "plt.show()"
   ]
  },
  {
   "cell_type": "raw",
   "metadata": {},
   "source": [
    "from numpy import polyfit\n",
    "\n",
    "coeff = polyfit(x, noise_y, 1) #多項式fitting\n",
    "print (\"coeff=\",coeff)\n",
    "\n",
    "\n",
    "\n",
    "\n",
    "\n"
   ]
  },
  {
   "cell_type": "markdown",
   "metadata": {},
   "source": [
    "### Applying the prediction function"
   ]
  },
  {
   "cell_type": "markdown",
   "metadata": {},
   "source": [
    "## Fixed Input"
   ]
  },
  {
   "cell_type": "code",
   "execution_count": null,
   "metadata": {},
   "outputs": [],
   "source": [
    "# define these for desired prediction\n",
    "x_input = [-4,-3,-2,-1,0,1,2,3,4]\n",
    "n_points = 900\n",
    "y_min = -1\n",
    "y_max = 1\n",
    "\n",
    "# produces an input of fixed x coordinates with random y values\n",
    "predict1 = np.full((n_points//9, n_features), x_input[0])\n",
    "predict2 = np.full((n_points//9, n_features), x_input[1])\n",
    "predict3 = np.full((n_points//9, n_features), x_input[2])\n",
    "predict4 = np.full((n_points//9, n_features), x_input[3])\n",
    "predict5 = np.full((n_points//9, n_features), x_input[4])\n",
    "predict6 = np.full((n_points//9, n_features), x_input[5])\n",
    "predict7 = np.full((n_points//9, n_features), x_input[6])\n",
    "predict8 = np.full((n_points//9, n_features), x_input[7])\n",
    "predict9 = np.full((n_points//9, n_features), x_input[8])\n",
    "\n",
    "print(\"predict1\",predict1.shape)\n",
    "predictthis = np.concatenate((predict1, predict2, predict3, predict4, predict5, predict6, predict7, predict8, predict9))\n",
    "print(\"predictthis\",predictthis.shape)\n",
    "\n",
    "predictthis = scaler.transform(predictthis)\n",
    "input_test = predictthis.reshape(n_points, n_features).astype('float32')\n",
    "\n",
    "\n",
    "print(\"input_test :\",input_test.shape)\n",
    "plt.scatter(input_test[:,0],input_test[:,1] ,c='grey')\n",
    "plt.ylabel('Y')\n",
    "plt.xlabel('X')\n",
    "plt.tight_layout()\n",
    "    "
   ]
  },
  {
   "cell_type": "code",
   "execution_count": null,
   "metadata": {},
   "outputs": [],
   "source": [
    "X_generated = wgan.predict(input_test, scaler) #wagn.predict"
   ]
  },
  {
   "cell_type": "code",
   "execution_count": null,
   "metadata": {},
   "outputs": [],
   "source": [
    "print(\"Generated Data:\",X_generated.shape)\n",
    "\n",
    "plt.scatter(X_train, y_train,label=\"Sample Data\")\n",
    "plt.scatter(X_generated[:,0],X_generated[:,1])\n",
    "plt.ylabel('Y')\n",
    "plt.xlabel('X')\n",
    "plt.tight_layout()"
   ]
  }
 ],
 "metadata": {
  "accelerator": "GPU",
  "colab": {
   "collapsed_sections": [],
   "name": "wgan-gp_2.ipynb",
   "provenance": []
  },
  "kernelspec": {
   "display_name": "Python 3",
   "language": "python",
   "name": "python3"
  },
  "language_info": {
   "codemirror_mode": {
    "name": "ipython",
    "version": 3
   },
   "file_extension": ".py",
   "mimetype": "text/x-python",
   "name": "python",
   "nbconvert_exporter": "python",
   "pygments_lexer": "ipython3",
   "version": "3.8.5"
  }
 },
 "nbformat": 4,
 "nbformat_minor": 1
}
