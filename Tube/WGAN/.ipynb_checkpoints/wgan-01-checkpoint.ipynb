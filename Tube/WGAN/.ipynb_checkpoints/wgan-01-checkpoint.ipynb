{
 "cells": [
  {
   "cell_type": "markdown",
   "metadata": {},
   "source": [
    "# Import python dataset"
   ]
  },
  {
   "cell_type": "code",
   "execution_count": 1,
   "metadata": {
    "execution": {
     "iopub.execute_input": "2021-08-21T15:26:36.737228Z",
     "iopub.status.busy": "2021-08-21T15:26:36.736892Z",
     "iopub.status.idle": "2021-08-21T15:26:36.747641Z",
     "shell.execute_reply": "2021-08-21T15:26:36.746623Z",
     "shell.execute_reply.started": "2021-08-21T15:26:36.737199Z"
    }
   },
   "outputs": [],
   "source": [
    "# Python ≥3.5 is required\n",
    "import sys\n",
    "assert sys.version_info >= (3, 5)\n",
    "\n",
    "# Scikit-Learn ≥0.20 is required\n",
    "import sklearn\n",
    "assert sklearn.__version__ >= \"0.20\"\n",
    "\n",
    "# TensorFlow ≥2.0 is required\n",
    "import tensorflow as tf\n",
    "from tensorflow import keras\n",
    "assert tf.__version__ >= \"2.0\"\n",
    "\n",
    "# Common imports\n",
    "import numpy as np\n",
    "import os\n",
    "\n",
    "# To plot pretty figures\n",
    "%matplotlib inline\n",
    "import matplotlib as mpl\n",
    "import matplotlib.pyplot as plt\n",
    "mpl.rc('axes', labelsize=14)\n",
    "mpl.rc('xtick', labelsize=12)\n",
    "mpl.rc('ytick', labelsize=12)\n",
    "\n",
    "import pandas as pd\n",
    "import time\n",
    "import functools"
   ]
  },
  {
   "cell_type": "code",
   "execution_count": 2,
   "metadata": {
    "execution": {
     "iopub.execute_input": "2021-08-21T15:26:36.749771Z",
     "iopub.status.busy": "2021-08-21T15:26:36.749302Z",
     "iopub.status.idle": "2021-08-21T15:26:36.758809Z",
     "shell.execute_reply": "2021-08-21T15:26:36.757941Z",
     "shell.execute_reply.started": "2021-08-21T15:26:36.749731Z"
    }
   },
   "outputs": [],
   "source": [
    "import numpy as np\n",
    "import functools\n",
    "import time\n",
    "\n",
    "import matplotlib.pyplot as plt\n",
    "import tensorflow as tf\n",
    "import keras\n",
    "from keras.optimizers import Adam\n",
    "from tensorflow import reduce_mean\n",
    "import gc\n",
    "from sklearn.preprocessing import *\n"
   ]
  },
  {
   "cell_type": "code",
   "execution_count": 3,
   "metadata": {
    "execution": {
     "iopub.execute_input": "2021-08-21T15:26:37.741588Z",
     "iopub.status.busy": "2021-08-21T15:26:37.74125Z",
     "iopub.status.idle": "2021-08-21T15:26:37.747377Z",
     "shell.execute_reply": "2021-08-21T15:26:37.746295Z",
     "shell.execute_reply.started": "2021-08-21T15:26:37.741554Z"
    }
   },
   "outputs": [],
   "source": [
    "import argparse\n",
    "import os\n",
    "import numpy as np\n",
    "from keras.models import Model, Sequential\n",
    "from keras.layers import Input, Dense, Reshape, Flatten\n",
    "#from keras.layers.merge import _Merge\n",
    "from keras.layers.convolutional import Convolution2D, Conv2DTranspose\n",
    "from keras.layers.normalization import BatchNormalization\n",
    "from keras.layers.advanced_activations import LeakyReLU\n",
    "from keras.optimizers import Adam\n",
    "from keras.datasets import mnist\n",
    "from keras import backend as K\n",
    "from functools import partial"
   ]
  },
  {
   "cell_type": "code",
   "execution_count": 4,
   "metadata": {
    "execution": {
     "iopub.execute_input": "2021-08-21T15:26:36.799786Z",
     "iopub.status.busy": "2021-08-21T15:26:36.799196Z",
     "iopub.status.idle": "2021-08-21T15:26:36.806564Z",
     "shell.execute_reply": "2021-08-21T15:26:36.805589Z",
     "shell.execute_reply.started": "2021-08-21T15:26:36.799745Z"
    }
   },
   "outputs": [],
   "source": [
    "allow_pickle=True\n",
    "notebookName = 'WGAN.ipynb'\n",
    "k = 1"
   ]
  },
  {
   "cell_type": "code",
   "execution_count": 5,
   "metadata": {
    "execution": {
     "iopub.execute_input": "2021-08-21T15:26:36.835598Z",
     "iopub.status.busy": "2021-08-21T15:26:36.835144Z",
     "iopub.status.idle": "2021-08-21T15:26:36.842145Z",
     "shell.execute_reply": "2021-08-21T15:26:36.841217Z",
     "shell.execute_reply.started": "2021-08-21T15:26:36.835559Z"
    }
   },
   "outputs": [],
   "source": [
    "tf.config.run_functions_eagerly(True)"
   ]
  },
  {
   "cell_type": "raw",
   "metadata": {
    "execution": {
     "iopub.execute_input": "2021-08-21T15:26:36.845407Z",
     "iopub.status.busy": "2021-08-21T15:26:36.84454Z",
     "iopub.status.idle": "2021-08-21T15:26:36.850189Z",
     "shell.execute_reply": "2021-08-21T15:26:36.849311Z",
     "shell.execute_reply.started": "2021-08-21T15:26:36.845363Z"
    }
   },
   "source": [
    "os.makedirs('./output/Figures/Individual')\n",
    "os.makedirs('./output/Figures/Result')\n",
    "os.makedirs('./output/Figures/Prediction')\n",
    "os.makedirs('./output/ganmodels')\n",
    "os.makedirs( './output/logs/WGAN/generator')\n",
    "os.makedirs('./output/logs/WGAN/critic')\n",
    "os.makedirs('./output/Figures/Loss')"
   ]
  },
  {
   "cell_type": "markdown",
   "metadata": {},
   "source": [
    "## Load data"
   ]
  },
  {
   "cell_type": "code",
   "execution_count": 6,
   "metadata": {
    "execution": {
     "iopub.execute_input": "2021-08-21T15:26:36.852158Z",
     "iopub.status.busy": "2021-08-21T15:26:36.851734Z",
     "iopub.status.idle": "2021-08-21T15:26:36.860336Z",
     "shell.execute_reply": "2021-08-21T15:26:36.85937Z",
     "shell.execute_reply.started": "2021-08-21T15:26:36.852119Z"
    }
   },
   "outputs": [],
   "source": [
    "n_features = 7"
   ]
  },
  {
   "cell_type": "code",
   "execution_count": 7,
   "metadata": {
    "execution": {
     "iopub.execute_input": "2021-08-21T15:26:36.863635Z",
     "iopub.status.busy": "2021-08-21T15:26:36.863235Z",
     "iopub.status.idle": "2021-08-21T15:26:36.943363Z",
     "shell.execute_reply": "2021-08-21T15:26:36.942258Z",
     "shell.execute_reply.started": "2021-08-21T15:26:36.8636Z"
    },
    "scrolled": true
   },
   "outputs": [
    {
     "name": "stdout",
     "output_type": "stream",
     "text": [
      "(1419, 7)\n",
      "(1419, 7)\n",
      "(1419, 7)\n",
      "(6,)\n",
      "['times' 'PM10' 'PM2_5' 'PM1' 'CO2' 'Temeprature' 'RH']\n"
     ]
    }
   ],
   "source": [
    "data= np.loadtxt('../input/pollutant/01.txt') \n",
    "print(data.shape)\n",
    "\n",
    "data02= np.loadtxt('../input/pollutant/02.txt') \n",
    "print(data02.shape)\n",
    "\n",
    "data04= np.loadtxt('../input/pollutant/04.txt') \n",
    "print(data04.shape)\n",
    "\n",
    "\n",
    "groups = ['PM10','PM2_5', 'PM1', 'CO2' ,'Temeprature' ,'RH']\n",
    "groups = np.array(groups)\n",
    "print(groups.shape)\n",
    "\n",
    "groups2 = ['times','PM10','PM2_5', 'PM1', 'CO2' ,'Temeprature' ,'RH']\n",
    "groups2 = np.array(groups2)\n",
    "print(groups2)"
   ]
  },
  {
   "cell_type": "raw",
   "metadata": {
    "execution": {
     "iopub.execute_input": "2021-08-21T15:26:36.945487Z",
     "iopub.status.busy": "2021-08-21T15:26:36.945114Z",
     "iopub.status.idle": "2021-08-21T15:26:37.669736Z",
     "shell.execute_reply": "2021-08-21T15:26:37.668878Z",
     "shell.execute_reply.started": "2021-08-21T15:26:36.945449Z"
    }
   },
   "source": [
    "fig, ax = plt.subplots(1,1, figsize=[20,10])\n",
    "ax.plot(data[:,0], data[:,1], label='PM10')\n",
    "ax.plot(data[:,0], data[:,2], label='PM2.5')\n",
    "ax.plot(data[:,0], data[:,3], label='PM1')\n",
    "ax.plot(data[:,0], data[:,4], label='CO2')\n",
    "\n",
    "ax.grid()\n",
    "plt.ylabel(\"concentration (ppm)\")\n",
    "plt.xlabel(\"time (min)\")\n",
    "plt.title('Tube')\n",
    "plt.legend()\n",
    "\n",
    "\n",
    "fig, ax = plt.subplots(1,1, figsize=[10,5])\n",
    "ax.plot(data[:,0], data[:,5],c='black', label='Temperature')\n",
    "ax.grid()\n",
    "plt.ylabel(\"RH (%)\")\n",
    "plt.xlabel(\"time (min)\")\n",
    "plt.title('Humidity')\n",
    "plt.legend()\n",
    "\n",
    "\n",
    "fig, ax = plt.subplots(1,1, figsize=[10,5])\n",
    "ax.plot(data[:,0], data[:,6],c='black', label='RH') #what is the unit?\n",
    "ax.grid()\n",
    "plt.ylabel(\"Celsius\")\n",
    "plt.xlabel(\"time (min)\")\n",
    "plt.title('Tube')\n",
    "plt.legend()\n",
    "\n",
    "plt.savefig('./output/Figures/Sample_v'+str(k)+'.png')\n",
    "plt.show"
   ]
  },
  {
   "cell_type": "markdown",
   "metadata": {},
   "source": [
    "# Preparing Dataset"
   ]
  },
  {
   "cell_type": "code",
   "execution_count": 8,
   "metadata": {
    "execution": {
     "iopub.execute_input": "2021-08-21T15:26:37.671926Z",
     "iopub.status.busy": "2021-08-21T15:26:37.671554Z",
     "iopub.status.idle": "2021-08-21T15:26:37.680684Z",
     "shell.execute_reply": "2021-08-21T15:26:37.679619Z",
     "shell.execute_reply.started": "2021-08-21T15:26:37.671877Z"
    }
   },
   "outputs": [
    {
     "data": {
      "text/plain": [
       "(1419, 7)"
      ]
     },
     "execution_count": 8,
     "metadata": {},
     "output_type": "execute_result"
    }
   ],
   "source": [
    "codings_size = n_features\n",
    "\n",
    "from sklearn.preprocessing import MinMaxScaler\n",
    "scaler = MinMaxScaler(feature_range=[-1,1])\n",
    "X_train_scaled = scaler.fit_transform(data)\n",
    "\n",
    "X_train_scaled.shape \n",
    "\n",
    "#scaler inverse_transform\n",
    "X_train = scaler.inverse_transform(((X_train_scaled)))\n",
    "X_train.shape \n"
   ]
  },
  {
   "cell_type": "code",
   "execution_count": 9,
   "metadata": {
    "execution": {
     "iopub.execute_input": "2021-08-21T15:26:37.693379Z",
     "iopub.status.busy": "2021-08-21T15:26:37.692962Z",
     "iopub.status.idle": "2021-08-21T15:26:37.698376Z",
     "shell.execute_reply": "2021-08-21T15:26:37.697361Z",
     "shell.execute_reply.started": "2021-08-21T15:26:37.693338Z"
    }
   },
   "outputs": [],
   "source": [
    "n = 0"
   ]
  },
  {
   "cell_type": "code",
   "execution_count": 10,
   "metadata": {
    "execution": {
     "iopub.execute_input": "2021-08-21T15:26:37.700701Z",
     "iopub.status.busy": "2021-08-21T15:26:37.700019Z",
     "iopub.status.idle": "2021-08-21T15:26:37.714921Z",
     "shell.execute_reply": "2021-08-21T15:26:37.713639Z",
     "shell.execute_reply.started": "2021-08-21T15:26:37.700659Z"
    }
   },
   "outputs": [
    {
     "name": "stdout",
     "output_type": "stream",
     "text": [
      "(1319, 100, 7, 1)\n",
      "(100, 7, 1)\n"
     ]
    }
   ],
   "source": [
    "def concat_timesteps(X_train_scaled, ntimes, step):\n",
    "    X_train_concat = []\n",
    "    for i in range(len(X_train_scaled) - ntimes*step):\n",
    "        X_train_concat.append(X_train_scaled[i:i+ntimes*step:step])\n",
    "    return np.array(X_train_concat)\n",
    "\n",
    "ntimes = 100 # Consecutive times for the GAN\n",
    "step = 1 # step between times (1 mins)\n",
    "\n",
    "X_train_concat = concat_timesteps(X_train_scaled, ntimes, step)#X_train_scaled\n",
    "X_train_concat = X_train_concat.reshape(X_train_concat.shape[0],ntimes,n_features,1)\n",
    "print(X_train_concat.shape)\n",
    "\n",
    "#Individual sample dataset\n",
    "print(X_train_concat[n].shape)\n",
    "\n"
   ]
  },
  {
   "cell_type": "code",
   "execution_count": 11,
   "metadata": {
    "execution": {
     "iopub.execute_input": "2021-08-21T15:26:37.716572Z",
     "iopub.status.busy": "2021-08-21T15:26:37.716268Z",
     "iopub.status.idle": "2021-08-21T15:26:37.73832Z",
     "shell.execute_reply": "2021-08-21T15:26:37.737404Z",
     "shell.execute_reply.started": "2021-08-21T15:26:37.716509Z"
    },
    "scrolled": true
   },
   "outputs": [
    {
     "name": "stdout",
     "output_type": "stream",
     "text": [
      "(64, 100, 7, 1)\n"
     ]
    }
   ],
   "source": [
    "BATCH_SIZE = 64\n",
    "latent_space = 100\n",
    "\n",
    "# Create a tensorflow dataset and split it into batches\n",
    "train_dataset = X_train_concat.reshape(X_train_concat.shape[0], ntimes, n_features,1).astype('float32')\n",
    "train_dataset = tf.data.Dataset.from_tensor_slices(train_dataset)\n",
    "train_dataset = train_dataset.shuffle(len(X_train_scaled))\n",
    "train_dataset = train_dataset.batch(BATCH_SIZE)\n",
    "\n",
    "for data in train_dataset:\n",
    "    print(data.shape)\n",
    "    break"
   ]
  },
  {
   "cell_type": "markdown",
   "metadata": {},
   "source": [
    "# Load Model"
   ]
  },
  {
   "cell_type": "code",
   "execution_count": 12,
   "metadata": {},
   "outputs": [
    {
     "name": "stdout",
     "output_type": "stream",
     "text": [
      "WARNING:tensorflow:No training configuration found in the save file, so the model was *not* compiled. Compile it manually.\n",
      "WARNING:tensorflow:No training configuration found in the save file, so the model was *not* compiled. Compile it manually.\n"
     ]
    }
   ],
   "source": [
    "wgan = keras.models.load_model('../input/wganmodels/v1_epoch_2700.h5').layers\n",
    "generator, critic = keras.models.load_model('../input/wganmodels/v1_epoch_2600.h5').layers"
   ]
  },
  {
   "cell_type": "code",
   "execution_count": 13,
   "metadata": {
    "execution": {
     "iopub.execute_input": "2021-08-21T15:26:37.948943Z",
     "iopub.status.busy": "2021-08-21T15:26:37.948683Z",
     "iopub.status.idle": "2021-08-21T15:26:38.02955Z",
     "shell.execute_reply": "2021-08-21T15:26:38.028556Z",
     "shell.execute_reply.started": "2021-08-21T15:26:37.948916Z"
    }
   },
   "outputs": [],
   "source": [
    "#wgan = keras.models.Sequential([generator, critic])"
   ]
  },
  {
   "cell_type": "markdown",
   "metadata": {},
   "source": [
    "# Generated Data"
   ]
  },
  {
   "cell_type": "code",
   "execution_count": 14,
   "metadata": {
    "execution": {
     "iopub.status.busy": "2021-08-21T15:27:13.989241Z",
     "iopub.status.idle": "2021-08-21T15:27:13.989994Z"
    }
   },
   "outputs": [
    {
     "name": "stdout",
     "output_type": "stream",
     "text": [
      "(131900, 7)\n",
      "save generated image\n"
     ]
    },
    {
     "data": {
      "image/png": "[encoded data removed]",
      "text/plain": [
       "<Figure size 1440x720 with 8 Axes>"
      ]
     },
     "metadata": {
      "needs_background": "light"
     },
     "output_type": "display_data"
    }
   ],
   "source": [
    "#generated data\n",
    "n_instances = X_train_concat.shape[0]\n",
    "noise = tf.random.normal([n_instances, latent_space])\n",
    "generated_image = generator(noise, training=False)\n",
    "generated_image = generated_image.numpy()\n",
    "generated_image = generated_image.reshape(n_instances*ntimes*1, n_features)\n",
    "generated_image = scaler.inverse_transform(generated_image)\n",
    "\n",
    "print(generated_image.shape)\n",
    "\n",
    "fig, ax = plt.subplots(2,4, figsize=[20,10])\n",
    "\n",
    "for i, group in enumerate(groups):\n",
    "    ax.flatten()[i].plot(generated_image[:,0],generated_image[:,i+1],'o',c='orange')\n",
    "    ax.flatten()[i].set_title(group)\n",
    "    ax.flatten()[0].set_xlabel(\"time step\")\n",
    "    ax.flatten()[0].set_ylabel(\"concentration (ppm)\")\n",
    "    \n",
    "plt.savefig('./output/Figures/Result/result_v'+str(k)+'.png')\n",
    "print('save generated image')\n",
    "\n",
    "X_train_concat_flatten2 = X_train_concat.reshape(X_train_concat.shape[0]*ntimes, n_features).astype('float32')\n",
    "X_train_concat_flatten2 = scaler.inverse_transform(X_train_concat_flatten2)\n"
   ]
  },
  {
   "cell_type": "code",
   "execution_count": 15,
   "metadata": {
    "execution": {
     "iopub.status.busy": "2021-08-21T15:27:13.991175Z",
     "iopub.status.idle": "2021-08-21T15:27:13.991944Z"
    }
   },
   "outputs": [
    {
     "data": {
      "image/png": "[encoded data removed]",
      "text/plain": [
       "<Figure size 1440x720 with 8 Axes>"
      ]
     },
     "metadata": {
      "needs_background": "light"
     },
     "output_type": "display_data"
    }
   ],
   "source": [
    "fig, ax = plt.subplots(2,4, figsize=[20,10])\n",
    "for i, group in enumerate(groups):\n",
    "    ax.flatten()[i].plot(X_train_concat_flatten2[:,0],X_train_concat_flatten2[:,i+1],'o')\n",
    "    ax.flatten()[i].set_title(group)\n",
    "    ax.flatten()[0].set_xlabel(\"time step\")\n",
    "    ax.flatten()[0].set_ylabel(\"concentration (ppm)\")    \n",
    "    \n",
    "plt.savefig('./output/Figures/Result/sample_v'+str(k)+'.png')"
   ]
  },
  {
   "cell_type": "markdown",
   "metadata": {},
   "source": [
    "# Predict with the GAN"
   ]
  },
  {
   "cell_type": "code",
   "execution_count": 16,
   "metadata": {},
   "outputs": [],
   "source": [
    "mse = tf.keras.losses.MeanSquaredError()\n",
    "optimizer = tf.keras.optimizers.Adam(1e-2) #1e-4\n",
    "\n",
    "def mse_loss(inp, outp):\n",
    "    inp = tf.reshape(inp, [-1, n_features]) \n",
    "    outp = tf.reshape(outp, [-1, n_features])\n",
    "    print(\"input:\",inp.shape)\n",
    "    print(\"output:\",outp.shape)\n",
    "    \n",
    "    return mse(inp, outp)\n",
    "\n",
    "def optimize_coding(latent_values, real_coding, epochs):\n",
    "    \n",
    "    for epoch in range(epochs):\n",
    "        opt_step(latent_values, real_coding)\n",
    "        \n",
    "    return latent_values  #returns the optimized input that generates the desired output\n",
    "\n",
    "\n",
    "@tf.function\n",
    "def opt_step(latent_values, real_coding):\n",
    "    with tf.GradientTape() as tape:\n",
    "        tape.watch(latent_values)\n",
    "        gen_output = generator(latent_values, training=False)  #results from generator\n",
    "        loss = mse_loss(real_coding, gen_output[-1,:(ntimes - 1),:])   #codings_size is size of each output, ntimes is number of time levels. \n",
    "        #If training for 9 time levels, it finds the loss between the first 8 outputs from the generator and 8 real outputs\n",
    "\n",
    "    gradient = tape.gradient(loss, latent_values)   #gradient of the loss ws to the input\n",
    "    optimizer.apply_gradients(zip([gradient], [latent_values]))   #applies gradients to the input\n",
    "    \n",
    "    return loss"
   ]
  },
  {
   "cell_type": "code",
   "execution_count": 17,
   "metadata": {
    "execution": {
     "iopub.status.busy": "2021-08-21T15:27:14.002597Z",
     "iopub.status.idle": "2021-08-21T15:27:14.003306Z"
    },
    "scrolled": true
   },
   "outputs": [],
   "source": [
    "n = 0\n",
    "epochs = 1000\n",
    "epoch=5300 #model's epoch\n",
    "predict_points = X_train.shape[0]-n-ntimes"
   ]
  },
  {
   "cell_type": "code",
   "execution_count": null,
   "metadata": {
    "execution": {
     "iopub.status.busy": "2021-08-21T15:27:14.004574Z",
     "iopub.status.idle": "2021-08-21T15:27:14.005175Z"
    },
    "scrolled": true
   },
   "outputs": [
    {
     "name": "stdout",
     "output_type": "stream",
     "text": [
      "input: (99, 7)\n",
      "output: (99, 7)\n",
      "input: (99, 7)\n",
      "output: (99, 7)\n",
      "input: (99, 7)\n",
      "output: (99, 7)\n",
      "input: (99, 7)\n",
      "output: (99, 7)\n",
      "input: (99, 7)\n",
      "output: (99, 7)\n",
      "input: (99, 7)\n",
      "output: (99, 7)\n",
      "input: (99, 7)\n",
      "output: (99, 7)\n",
      "input: (99, 7)\n",
      "output: (99, 7)\n",
      "input: (99, 7)\n",
      "output: (99, 7)\n",
      "input: (99, 7)\n",
      "output: (99, 7)\n",
      "input: (99, 7)\n",
      "output: (99, 7)\n",
      "input: (99, 7)\n",
      "output: (99, 7)\n",
      "input: (99, 7)\n",
      "output: (99, 7)\n",
      "input: (99, 7)\n",
      "output: (99, 7)\n",
      "input: (99, 7)\n",
      "output: (99, 7)\n",
      "input: (99, 7)\n",
      "output: (99, 7)\n",
      "input: (99, 7)\n",
      "output: (99, 7)\n",
      "input: (99, 7)\n",
      "output: (99, 7)\n",
      "input: (99, 7)\n",
      "output: (99, 7)\n",
      "input: (99, 7)\n",
      "output: (99, 7)\n",
      "input: (99, 7)\n",
      "output: (99, 7)\n",
      "input: (99, 7)\n",
      "output: (99, 7)\n",
      "input: (99, 7)\n",
      "output: (99, 7)\n",
      "input: (99, 7)\n",
      "output: (99, 7)\n",
      "input: (99, 7)\n",
      "output: (99, 7)\n",
      "input: (99, 7)\n",
      "output: (99, 7)\n",
      "input: (99, 7)\n",
      "output: (99, 7)\n",
      "input: (99, 7)\n",
      "output: (99, 7)\n",
      "input: (99, 7)\n",
      "output: (99, 7)\n",
      "input: (99, 7)\n",
      "output: (99, 7)\n",
      "input: (99, 7)\n",
      "output: (99, 7)\n",
      "input: (99, 7)\n",
      "output: (99, 7)\n",
      "input: (99, 7)\n",
      "output: (99, 7)\n",
      "input: (99, 7)\n",
      "output: (99, 7)\n",
      "input: (99, 7)\n",
      "output: (99, 7)\n",
      "input: (99, 7)\n",
      "output: (99, 7)\n",
      "input: (99, 7)\n",
      "output: (99, 7)\n",
      "input: (99, 7)\n",
      "output: (99, 7)\n",
      "input: (99, 7)\n",
      "output: (99, 7)\n",
      "input: (99, 7)\n",
      "output: (99, 7)\n",
      "input: (99, 7)\n",
      "output: (99, 7)\n",
      "input: (99, 7)\n",
      "output: (99, 7)\n",
      "input: (99, 7)\n",
      "output: (99, 7)\n",
      "input: (99, 7)\n",
      "output: (99, 7)\n",
      "input: (99, 7)\n",
      "output: (99, 7)\n",
      "input: (99, 7)\n",
      "output: (99, 7)\n",
      "input: (99, 7)\n",
      "output: (99, 7)\n",
      "input: (99, 7)\n",
      "output: (99, 7)\n",
      "input: (99, 7)\n",
      "output: (99, 7)\n",
      "input: (99, 7)\n",
      "output: (99, 7)\n",
      "input: (99, 7)\n",
      "output: (99, 7)\n",
      "input: (99, 7)\n",
      "output: (99, 7)\n",
      "input: (99, 7)\n",
      "output: (99, 7)\n",
      "input: (99, 7)\n",
      "output: (99, 7)\n",
      "input: (99, 7)\n",
      "output: (99, 7)\n",
      "input: (99, 7)\n",
      "output: (99, 7)\n",
      "input: (99, 7)\n",
      "output: (99, 7)\n",
      "input: (99, 7)\n",
      "output: (99, 7)\n",
      "input: (99, 7)\n",
      "output: (99, 7)\n",
      "input: (99, 7)\n",
      "output: (99, 7)\n",
      "input: (99, 7)\n",
      "output: (99, 7)\n",
      "input: (99, 7)\n",
      "output: (99, 7)\n",
      "input: (99, 7)\n",
      "output: (99, 7)\n",
      "input: (99, 7)\n",
      "output: (99, 7)\n",
      "input: (99, 7)\n",
      "output: (99, 7)\n",
      "input: (99, 7)\n",
      "output: (99, 7)\n",
      "input: (99, 7)\n",
      "output: (99, 7)\n",
      "input: (99, 7)\n",
      "output: (99, 7)\n",
      "input: (99, 7)\n",
      "output: (99, 7)\n",
      "input: (99, 7)\n",
      "output: (99, 7)\n",
      "input: (99, 7)\n",
      "output: (99, 7)\n",
      "input: (99, 7)\n",
      "output: (99, 7)\n",
      "input: (99, 7)\n",
      "output: (99, 7)\n",
      "input: (99, 7)\n",
      "output: (99, 7)\n",
      "input: (99, 7)\n",
      "output: (99, 7)\n",
      "input: (99, 7)\n",
      "output: (99, 7)\n",
      "input: (99, 7)\n",
      "output: (99, 7)\n",
      "input: (99, 7)\n",
      "output: (99, 7)\n",
      "input: (99, 7)\n",
      "output: (99, 7)\n",
      "input: (99, 7)\n",
      "output: (99, 7)\n",
      "input: (99, 7)\n",
      "output: (99, 7)\n",
      "input: (99, 7)\n",
      "output: (99, 7)\n",
      "input: (99, 7)\n",
      "output: (99, 7)\n",
      "input: (99, 7)\n",
      "output: (99, 7)\n",
      "input: (99, 7)\n",
      "output: (99, 7)\n",
      "input: (99, 7)\n",
      "output: (99, 7)\n",
      "input: (99, 7)\n",
      "output: (99, 7)\n",
      "input: (99, 7)\n",
      "output: (99, 7)\n",
      "input: (99, 7)\n",
      "output: (99, 7)\n",
      "input: (99, 7)\n",
      "output: (99, 7)\n",
      "input: (99, 7)\n",
      "output: (99, 7)\n",
      "input: (99, 7)\n",
      "output: (99, 7)\n",
      "input: (99, 7)\n",
      "output: (99, 7)\n",
      "input: (99, 7)\n",
      "output: (99, 7)\n",
      "input: (99, 7)\n",
      "output: (99, 7)\n",
      "input: (99, 7)\n",
      "output: (99, 7)\n",
      "input: (99, 7)\n",
      "output: (99, 7)\n",
      "input: (99, 7)\n",
      "output: (99, 7)\n",
      "input: (99, 7)\n",
      "output: (99, 7)\n",
      "input: (99, 7)\n",
      "output: (99, 7)\n",
      "input: (99, 7)\n",
      "output: (99, 7)\n",
      "input: (99, 7)\n",
      "output: (99, 7)\n",
      "input: (99, 7)\n",
      "output: (99, 7)\n",
      "input: (99, 7)\n",
      "output: (99, 7)\n",
      "input: (99, 7)\n",
      "output: (99, 7)\n",
      "input: (99, 7)\n",
      "output: (99, 7)\n",
      "input: (99, 7)\n",
      "output: (99, 7)\n",
      "input: (99, 7)\n",
      "output: (99, 7)\n",
      "input: (99, 7)\n",
      "output: (99, 7)\n",
      "input: (99, 7)\n",
      "output: (99, 7)\n",
      "input: (99, 7)\n",
      "output: (99, 7)\n",
      "input: (99, 7)\n",
      "output: (99, 7)\n",
      "input: (99, 7)\n",
      "output: (99, 7)\n",
      "input: (99, 7)\n",
      "output: (99, 7)\n",
      "input: (99, 7)\n",
      "output: (99, 7)\n",
      "input: (99, 7)\n",
      "output: (99, 7)\n",
      "input: (99, 7)\n",
      "output: (99, 7)\n",
      "input: (99, 7)\n",
      "output: (99, 7)\n",
      "input: (99, 7)\n",
      "output: (99, 7)\n",
      "input: (99, 7)\n",
      "output: (99, 7)\n",
      "input: (99, 7)\n",
      "output: (99, 7)\n",
      "input: (99, 7)\n",
      "output: (99, 7)\n",
      "input: (99, 7)\n",
      "output: (99, 7)\n",
      "input: (99, 7)\n",
      "output: (99, 7)\n",
      "input: (99, 7)\n",
      "output: (99, 7)\n",
      "input: (99, 7)\n",
      "output: (99, 7)\n",
      "input: (99, 7)\n",
      "output: (99, 7)\n",
      "input: (99, 7)\n",
      "output: (99, 7)\n",
      "input: (99, 7)\n",
      "output: (99, 7)\n",
      "input: (99, 7)\n",
      "output: (99, 7)\n",
      "input: (99, 7)\n",
      "output: (99, 7)\n",
      "input: (99, 7)\n",
      "output: (99, 7)\n",
      "input: (99, 7)\n",
      "output: (99, 7)\n",
      "input: (99, 7)\n",
      "output: (99, 7)\n",
      "input: (99, 7)\n",
      "output: (99, 7)\n",
      "input: (99, 7)\n",
      "output: (99, 7)\n",
      "input: (99, 7)\n",
      "output: (99, 7)\n",
      "input: (99, 7)\n",
      "output: (99, 7)\n",
      "input: (99, 7)\n",
      "output: (99, 7)\n",
      "input: (99, 7)\n",
      "output: (99, 7)\n",
      "input: (99, 7)\n",
      "output: (99, 7)\n",
      "input: (99, 7)\n",
      "output: (99, 7)\n",
      "input: (99, 7)\n",
      "output: (99, 7)\n",
      "input: (99, 7)\n",
      "output: (99, 7)\n",
      "input: (99, 7)\n",
      "output: (99, 7)\n",
      "input: (99, 7)\n",
      "output: (99, 7)\n",
      "input: (99, 7)\n",
      "output: (99, 7)\n",
      "input: (99, 7)\n",
      "output: (99, 7)\n",
      "input: (99, 7)\n",
      "output: (99, 7)\n",
      "input: (99, 7)\n",
      "output: (99, 7)\n",
      "input: (99, 7)\n",
      "output: (99, 7)\n",
      "input: (99, 7)\n",
      "output: (99, 7)\n",
      "input: (99, 7)\n",
      "output: (99, 7)\n",
      "input: (99, 7)\n",
      "output: (99, 7)\n",
      "input: (99, 7)\n",
      "output: (99, 7)\n",
      "input: (99, 7)\n",
      "output: (99, 7)\n",
      "input: (99, 7)\n",
      "output: (99, 7)\n",
      "input: (99, 7)\n",
      "output: (99, 7)\n",
      "input: (99, 7)\n",
      "output: (99, 7)\n",
      "input: (99, 7)\n",
      "output: (99, 7)\n",
      "input: (99, 7)\n",
      "output: (99, 7)\n",
      "input: (99, 7)\n",
      "output: (99, 7)\n",
      "input: (99, 7)\n",
      "output: (99, 7)\n",
      "input: (99, 7)\n",
      "output: (99, 7)\n",
      "input: (99, 7)\n",
      "output: (99, 7)\n",
      "input: (99, 7)\n",
      "output: (99, 7)\n",
      "input: (99, 7)\n",
      "output: (99, 7)\n",
      "input: (99, 7)\n",
      "output: (99, 7)\n",
      "input: (99, 7)\n",
      "output: (99, 7)\n",
      "input: (99, 7)\n",
      "output: (99, 7)\n",
      "input: (99, 7)\n",
      "output: (99, 7)\n",
      "input: (99, 7)\n",
      "output: (99, 7)\n",
      "input: (99, 7)\n",
      "output: (99, 7)\n",
      "input: (99, 7)\n",
      "output: (99, 7)\n",
      "input: (99, 7)\n",
      "output: (99, 7)\n",
      "input: (99, 7)\n",
      "output: (99, 7)\n",
      "input: (99, 7)\n",
      "output: (99, 7)\n",
      "input: (99, 7)\n",
      "output: (99, 7)\n",
      "input: (99, 7)\n",
      "output: (99, 7)\n",
      "input: (99, 7)\n",
      "output: (99, 7)\n",
      "input: (99, 7)\n",
      "output: (99, 7)\n",
      "input: (99, 7)\n",
      "output: (99, 7)\n",
      "input: (99, 7)\n",
      "output: (99, 7)\n",
      "input: (99, 7)\n",
      "output: (99, 7)\n",
      "input: (99, 7)\n",
      "output: (99, 7)\n",
      "input: (99, 7)\n",
      "output: (99, 7)\n",
      "input: (99, 7)\n",
      "output: (99, 7)\n",
      "input: (99, 7)\n",
      "output: (99, 7)\n",
      "input: (99, 7)\n",
      "output: (99, 7)\n",
      "input: (99, 7)\n",
      "output: (99, 7)\n",
      "input: (99, 7)\n",
      "output: (99, 7)\n",
      "input: (99, 7)\n",
      "output: (99, 7)\n",
      "input: (99, 7)\n",
      "output: (99, 7)\n",
      "input: (99, 7)\n",
      "output: (99, 7)\n",
      "input: (99, 7)\n",
      "output: (99, 7)\n",
      "input: (99, 7)\n",
      "output: (99, 7)\n",
      "input: (99, 7)\n",
      "output: (99, 7)\n",
      "input: (99, 7)\n",
      "output: (99, 7)\n",
      "input: (99, 7)\n",
      "output: (99, 7)\n",
      "input: (99, 7)\n",
      "output: (99, 7)\n",
      "input: (99, 7)\n",
      "output: (99, 7)\n",
      "input: (99, 7)\n",
      "output: (99, 7)\n"
     ]
    }
   ],
   "source": [
    "np.random.seed(0)\n",
    "tf.random.set_seed(0)\n",
    "\n",
    "real_coding = X_train_concat[n].reshape(1,-1)\n",
    "real_coding = real_coding[:,:codings_size*(ntimes - 1)]\n",
    "real_coding = tf.constant(real_coding)\n",
    "real_coding = tf.cast(real_coding, dtype=tf.float32)\n",
    "\n",
    "latent_values = tf.random.normal([len(real_coding), latent_space])  \n",
    "latent_values = tf.Variable(latent_values)     #make input a tensorflow variable so it can be trained\n",
    "\n",
    "latent_values = optimize_coding(latent_values, real_coding, epochs)\n",
    "X_predict = list(generator(latent_values).numpy().reshape(-1,n_features))\n",
    "gen_predict = X_predict[-1]\n",
    "real_coding = np.concatenate((real_coding, gen_predict.reshape(1,-1)), axis=1)[:,n_features:]\n",
    "real_coding = tf.constant(real_coding)\n",
    "real_coding = tf.cast(real_coding, dtype=tf.float32)\n",
    "\n",
    "for i in range(predict_points): #range(2000,len(X_train_concat)-1):\n",
    "    latent_values = optimize_coding(latent_values, real_coding, epochs)\n",
    "    gen_predict = generator(latent_values)[:,(ntimes - 1):,:,:].numpy()\n",
    "    X_predict.append(gen_predict.flatten())\n",
    "    real_coding = np.concatenate((real_coding, gen_predict.reshape(1,-1)), axis=1)[:,codings_size:]\n",
    "    real_coding = tf.constant(real_coding)\n",
    "    real_coding = tf.cast(real_coding, dtype=tf.float32)\n",
    "X_predict = np.array(X_predict)"
   ]
  },
  {
   "cell_type": "code",
   "execution_count": null,
   "metadata": {
    "execution": {
     "iopub.status.busy": "2021-08-21T15:27:14.006377Z",
     "iopub.status.idle": "2021-08-21T15:27:14.007119Z"
    }
   },
   "outputs": [],
   "source": [
    "X_generated = scaler.inverse_transform(X_predict)\n",
    "X_generated = X_generated.reshape(len(X_predict), 7)\n",
    "X_generated[X_generated<0] = 0 \n",
    "np.save('X_generatedall.npy',X_generated)\n",
    "        \n",
    "    \n",
    "fig, ax = plt.subplots(2,4, figsize=[20,10])\n",
    "for i, group in enumerate(groups):\n",
    "    ax.flatten()[i].plot(X_generated[:,i+1], '-',c='orange', label='generated')\n",
    "    ax.flatten()[i].plot(X_train[n:(n+ntimes+predict_points),i+1], '-', label='real')\n",
    "    ax.flatten()[i].set_title(group)\n",
    "    ax.flatten()[i].legend()\n",
    "    \n",
    "plt.savefig('./output/Figures/Prediction/entire_v'+str(k)+'_epoch_'+str(epochs)+'.png')"
   ]
  }
 ],
 "metadata": {
  "kernelspec": {
   "display_name": "Python 3",
   "language": "python",
   "name": "python3"
  },
  "language_info": {
   "codemirror_mode": {
    "name": "ipython",
    "version": 3
   },
   "file_extension": ".py",
   "mimetype": "text/x-python",
   "name": "python",
   "nbconvert_exporter": "python",
   "pygments_lexer": "ipython3",
   "version": "3.8.5"
  }
 },
 "nbformat": 4,
 "nbformat_minor": 4
}
