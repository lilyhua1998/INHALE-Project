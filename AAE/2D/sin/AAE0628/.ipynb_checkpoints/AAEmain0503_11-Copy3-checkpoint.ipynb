{
 "cells": [
  {
   "cell_type": "code",
   "execution_count": 1,
   "metadata": {},
   "outputs": [],
   "source": [
    "# Common imports\n",
    "import numpy as np\n",
    "import os\n",
    "from backend import import_excel, export_excel\n",
    "\n",
    "# To plot pretty figures\n",
    "%matplotlib inline\n",
    "import matplotlib as mpl\n",
    "import matplotlib.pyplot as plt\n",
    "import matplotlib.style as style\n",
    "# style.use('bmh')\n",
    "from mpl_toolkits.mplot3d import Axes3D\n",
    "mpl.rc('axes', labelsize=14)\n",
    "mpl.rc('xtick', labelsize=12)\n",
    "mpl.rc('ytick', labelsize=12)\n",
    "\n",
    "import pandas as pd\n",
    "import seaborn as sns\n",
    "\n",
    "import tensorflow as tf\n",
    "import keras\n",
    "import tensorflow as tf\n",
    "from keras import Input, Model\n",
    "from keras.models import Sequential, Model\n",
    "\n",
    "\n",
    "import random\n",
    "\n",
    "import sys\n",
    "sys.path.append(\"..\")\n",
    "\n",
    "import dataset,network11"
   ]
  },
  {
   "cell_type": "markdown",
   "metadata": {},
   "source": [
    "# Load Data"
   ]
  },
  {
   "cell_type": "code",
   "execution_count": 2,
   "metadata": {},
   "outputs": [],
   "source": [
    "# Preprocessing\n",
    "\n",
    "scenario= \"sinus\" #sinus, helix\n",
    "n_instance = 1000\n",
    "n_features = 2\n",
    "Z=400\n",
    "scales = ['-1-1','0-1']\n",
    "scaled = '-1-1'\n",
    "nodes=128"
   ]
  },
  {
   "cell_type": "code",
   "execution_count": 3,
   "metadata": {},
   "outputs": [
    {
     "data": {
      "image/png": "[encoded data removed]",
      "text/plain": [
       "<Figure size 432x288 with 1 Axes>"
      ]
     },
     "metadata": {
      "needs_background": "light"
     },
     "output_type": "display_data"
    }
   ],
   "source": [
    "if scenario in (\"3d\", \"helix\"):\n",
    "    X_train, y_train, X_test, y_test, X_valid, y_valid = dataset.get_dataset(n_instance, scenario)\n",
    "    print(\"X_train= x,y\",X_train.shape)\n",
    "    print(\"y_train= z\",y_train.shape)\n",
    "\n",
    "    ax = plt.subplot(projection='3d')\n",
    "    ax.scatter(X_train[:,0], X_train[:,1], y_train, c='orange')\n",
    "    ax.set_zlabel('Z')\n",
    "    ax.set_ylabel('Y')\n",
    "    ax.set_xlabel('X')\n",
    "    plt.tight_layout()\n",
    "\n",
    "    \n",
    "else:\n",
    "    X_train, y_train, X_test, y_test, X_valid, y_valid = dataset.get_dataset(n_instance, scenario)\n",
    "    plt.scatter(X_train,y_train, c='orange', label='Sample Data')\n",
    "    plt.ylabel('Y')\n",
    "    plt.xlabel('X')\n",
    "    plt.tight_layout()"
   ]
  },
  {
   "cell_type": "code",
   "execution_count": 4,
   "metadata": {},
   "outputs": [
    {
     "name": "stdout",
     "output_type": "stream",
     "text": [
      "made dataset\n"
     ]
    }
   ],
   "source": [
    "#storage data\n",
    "os.system('mkdir Dataset')\n",
    "os.system('mkdir AAE')\n",
    "os.system('mkdir AAE/Models')\n",
    "os.system('mkdir AAE/Losses')\n",
    "os.system('mkdir AAE/Random_test')\n",
    "export_excel(X_train, 'Dataset/X_train')\n",
    "export_excel(y_train, 'Dataset/y_train')\n",
    "\n",
    "# print(X_train.shape,y_train.shape)\n",
    "X_train = import_excel('Dataset/X_train')\n",
    "y_train = import_excel('Dataset/y_train')\n",
    "print('made dataset')"
   ]
  },
  {
   "cell_type": "markdown",
   "metadata": {},
   "source": [
    "# AAE"
   ]
  },
  {
   "cell_type": "markdown",
   "metadata": {},
   "source": [
    "### Architecture"
   ]
  },
  {
   "cell_type": "code",
   "execution_count": 5,
   "metadata": {},
   "outputs": [
    {
     "name": "stdout",
     "output_type": "stream",
     "text": [
      "Encoder:\n",
      "\n",
      "Model: \"model\"\n",
      "__________________________________________________________________________________________________\n",
      "Layer (type)                    Output Shape         Param #     Connected to                     \n",
      "==================================================================================================\n",
      "input_1 (InputLayer)            [(None, 2)]          0                                            \n",
      "__________________________________________________________________________________________________\n",
      "dense (Dense)                   (None, 128)          384         input_1[0][0]                    \n",
      "__________________________________________________________________________________________________\n",
      "batch_normalization (BatchNorma (None, 128)          512         dense[0][0]                      \n",
      "__________________________________________________________________________________________________\n",
      "leaky_re_lu (LeakyReLU)         (None, 128)          0           batch_normalization[0][0]        \n",
      "__________________________________________________________________________________________________\n",
      "dense_1 (Dense)                 (None, 64)           8256        leaky_re_lu[0][0]                \n",
      "__________________________________________________________________________________________________\n",
      "batch_normalization_1 (BatchNor (None, 64)           256         dense_1[0][0]                    \n",
      "__________________________________________________________________________________________________\n",
      "leaky_re_lu_1 (LeakyReLU)       (None, 64)           0           batch_normalization_1[0][0]      \n",
      "__________________________________________________________________________________________________\n",
      "dense_2 (Dense)                 (None, 400)          26000       leaky_re_lu_1[0][0]              \n",
      "__________________________________________________________________________________________________\n",
      "dense_3 (Dense)                 (None, 400)          26000       leaky_re_lu_1[0][0]              \n",
      "__________________________________________________________________________________________________\n",
      "lambda (Lambda)                 (None, 400)          0           dense_2[0][0]                    \n",
      "                                                                 dense_3[0][0]                    \n",
      "==================================================================================================\n",
      "Total params: 61,408\n",
      "Trainable params: 61,024\n",
      "Non-trainable params: 384\n",
      "__________________________________________________________________________________________________\n",
      "Decoder:\n",
      "\n",
      "Model: \"sequential\"\n",
      "_________________________________________________________________\n",
      "Layer (type)                 Output Shape              Param #   \n",
      "=================================================================\n",
      "dense_4 (Dense)              (None, 400)               160400    \n",
      "_________________________________________________________________\n",
      "dense_5 (Dense)              (None, 64)                25664     \n",
      "_________________________________________________________________\n",
      "leaky_re_lu_2 (LeakyReLU)    (None, 64)                0         \n",
      "_________________________________________________________________\n",
      "batch_normalization_2 (Batch (None, 64)                256       \n",
      "_________________________________________________________________\n",
      "dense_6 (Dense)              (None, 128)               8320      \n",
      "_________________________________________________________________\n",
      "leaky_re_lu_3 (LeakyReLU)    (None, 128)               0         \n",
      "_________________________________________________________________\n",
      "batch_normalization_3 (Batch (None, 128)               512       \n",
      "_________________________________________________________________\n",
      "dense_7 (Dense)              (None, 2)                 258       \n",
      "=================================================================\n",
      "Total params: 195,410\n",
      "Trainable params: 195,026\n",
      "Non-trainable params: 384\n",
      "_________________________________________________________________\n",
      "Discriminator:\n",
      "\n",
      "Model: \"sequential_1\"\n",
      "_________________________________________________________________\n",
      "Layer (type)                 Output Shape              Param #   \n",
      "=================================================================\n",
      "leaky_re_lu_4 (LeakyReLU)    (None, 400)               0         \n",
      "_________________________________________________________________\n",
      "batch_normalization_4 (Batch (None, 400)               1600      \n",
      "_________________________________________________________________\n",
      "dense_8 (Dense)              (None, 200)               80200     \n",
      "_________________________________________________________________\n",
      "leaky_re_lu_5 (LeakyReLU)    (None, 200)               0         \n",
      "_________________________________________________________________\n",
      "batch_normalization_5 (Batch (None, 200)               800       \n",
      "_________________________________________________________________\n",
      "flatten (Flatten)            (None, 200)               0         \n",
      "_________________________________________________________________\n",
      "dense_9 (Dense)              (None, 1)                 201       \n",
      "=================================================================\n",
      "Total params: 82,801\n",
      "Trainable params: 81,601\n",
      "Non-trainable params: 1,200\n",
      "_________________________________________________________________\n"
     ]
    }
   ],
   "source": [
    "encoder=network11.build_encoder(Z, nodes, n_features)\n",
    "print(\"Encoder:\\n\")\n",
    "encoder.summary()\n",
    "\n",
    "\n",
    "decoder=network11.build_decoder(Z,nodes, n_features)\n",
    "print(\"Decoder:\\n\")\n",
    "decoder.summary()\n",
    "\n",
    "discriminator=network11.build_discriminator(Z)\n",
    "print(\"Discriminator:\\n\")\n",
    "discriminator.summary()"
   ]
  },
  {
   "cell_type": "markdown",
   "metadata": {},
   "source": [
    "### Preprocessing"
   ]
  },
  {
   "cell_type": "code",
   "execution_count": 6,
   "metadata": {},
   "outputs": [],
   "source": [
    "import AAE_Model11\n",
    "\n",
    "GANorWGAN='WGAN'\n",
    "epochs = 101\n",
    "BATCH_SIZE = 100"
   ]
  },
  {
   "cell_type": "code",
   "execution_count": 7,
   "metadata": {},
   "outputs": [],
   "source": [
    "aae = AAE_Model11.AAE(Z, n_features, BATCH_SIZE,GANorWGAN)"
   ]
  },
  {
   "cell_type": "code",
   "execution_count": 8,
   "metadata": {},
   "outputs": [
    {
     "name": "stdout",
     "output_type": "stream",
     "text": [
      "data shape_1 (100, 2)\n",
      "data shape_2 (100, 2)\n",
      "data shape_3 (100, 2)\n",
      "data shape_4 (100, 2)\n",
      "data shape_5 (100, 2)\n",
      "data shape_6 (100, 2)\n",
      "data shape_7 (100, 2)\n",
      "data shape_8 (100, 2)\n",
      "data shape_9 (100, 2)\n",
      "data shape_10 (100, 2)\n",
      "Cycles:  10\n",
      "X_train (1000, 1)\n",
      "y_train (1000, 1)\n",
      "X_train_scaled (1000, 2)\n"
     ]
    }
   ],
   "source": [
    "train_dataset, scaler, X_train_scaled = aae.preproc(X_train, y_train, scaled)\n",
    "\n",
    "print(\"X_train\",X_train.shape)\n",
    "print(\"y_train\",y_train.shape)\n",
    "print(\"X_train_scaled\",X_train_scaled.shape)\n"
   ]
  },
  {
   "cell_type": "markdown",
   "metadata": {},
   "source": [
    "## Training"
   ]
  },
  {
   "cell_type": "code",
   "execution_count": 9,
   "metadata": {
    "scrolled": true
   },
   "outputs": [
    {
     "name": "stdout",
     "output_type": "stream",
     "text": [
      "Epoch 1/101\n",
      "[C1 valid: -0.503568, C2 fake: 0.501514], [G loss: 0.403514, mse: 0.404425]\n"
     ]
    },
    {
     "name": "stderr",
     "output_type": "stream",
     "text": [
      "/Users/lilyhua/OneDrive - Imperial College London/INHALE Code/Lily/AAE/AAE0504/AAE_Model11.py:190: MatplotlibDeprecationWarning: Adding an axes using the same arguments as a previous axes currently reuses the earlier instance.  In a future version, a new instance will always be created and returned.  Meanwhile, this warning can be suppressed, and the future behavior ensured, by passing a unique label to each axes instance.\n",
      "  plt.subplot()\n"
     ]
    },
    {
     "name": "stdout",
     "output_type": "stream",
     "text": [
      "INFO:tensorflow:Assets written to: AAE/Models/11encoder_400_101/assets\n",
      "INFO:tensorflow:Assets written to: AAE/Models/11decoder_400_101/assets\n",
      "INFO:tensorflow:Assets written to: AAE_PCAE/11discriminator_400_101/assets\n",
      "Epoch 2/101\n",
      "[C1 valid: -0.503615, C2 fake: 0.503754], [G loss: 0.201671, mse: 0.202413]\n",
      "Epoch 3/101\n",
      "[C1 valid: -0.502093, C2 fake: 0.502069], [G loss: 0.159682, mse: 0.160387]\n",
      "Epoch 4/101\n",
      "[C1 valid: -0.502300, C2 fake: 0.502793], [G loss: 0.085560, mse: 0.086142]\n",
      "Epoch 5/101\n",
      "[C1 valid: -0.501997, C2 fake: 0.503028], [G loss: 0.079830, mse: 0.080433]\n",
      "Epoch 6/101\n",
      "[C1 valid: -0.500890, C2 fake: 0.502046], [G loss: 0.066383, mse: 0.066976]\n",
      "Epoch 7/101\n",
      "[C1 valid: -0.501073, C2 fake: 0.503248], [G loss: 0.074756, mse: 0.075397]\n",
      "Epoch 8/101\n",
      "[C1 valid: -0.499719, C2 fake: 0.502895], [G loss: 0.060885, mse: 0.061488]\n",
      "Epoch 9/101\n",
      "[C1 valid: -0.499955, C2 fake: 0.503140], [G loss: 0.055859, mse: 0.056570]\n",
      "Epoch 10/101\n",
      "[C1 valid: -0.499249, C2 fake: 0.502695], [G loss: 0.043434, mse: 0.044072]\n",
      "Epoch 11/101\n",
      "[C1 valid: -0.503860, C2 fake: 0.502667], [G loss: 0.063935, mse: 0.064528]\n",
      "Epoch 12/101\n",
      "[C1 valid: -0.501939, C2 fake: 0.508722], [G loss: 0.042761, mse: 0.043362]\n",
      "Epoch 13/101\n",
      "[C1 valid: -0.501135, C2 fake: 0.506366], [G loss: 0.035923, mse: 0.036584]\n",
      "Epoch 14/101\n",
      "[C1 valid: -0.498641, C2 fake: 0.505879], [G loss: 0.035308, mse: 0.036000]\n",
      "Epoch 15/101\n",
      "[C1 valid: -0.499411, C2 fake: 0.506264], [G loss: 0.049678, mse: 0.050363]\n",
      "Epoch 16/101\n",
      "[C1 valid: -0.499349, C2 fake: 0.507238], [G loss: 0.034858, mse: 0.035524]\n",
      "Epoch 17/101\n",
      "[C1 valid: -0.497943, C2 fake: 0.506214], [G loss: 0.033090, mse: 0.033673]\n",
      "Epoch 18/101\n",
      "[C1 valid: -0.497341, C2 fake: 0.506097], [G loss: 0.032393, mse: 0.032987]\n",
      "Epoch 19/101\n",
      "[C1 valid: -0.497979, C2 fake: 0.506534], [G loss: 0.027752, mse: 0.028339]\n",
      "Epoch 20/101\n",
      "[C1 valid: -0.496796, C2 fake: 0.506565], [G loss: 0.028695, mse: 0.029288]\n",
      "Epoch 21/101\n",
      "[C1 valid: -0.501075, C2 fake: 0.493816], [G loss: 0.025984, mse: 0.026541]\n",
      "Epoch 22/101\n",
      "[C1 valid: -0.501455, C2 fake: 0.501560], [G loss: 0.020724, mse: 0.021218]\n",
      "Epoch 23/101\n",
      "[C1 valid: -0.501257, C2 fake: 0.500766], [G loss: 0.020377, mse: 0.020875]\n",
      "Epoch 24/101\n",
      "[C1 valid: -0.502347, C2 fake: 0.499512], [G loss: 0.031346, mse: 0.031865]\n",
      "Epoch 25/101\n",
      "[C1 valid: -0.501776, C2 fake: 0.502127], [G loss: 0.018566, mse: 0.019056]\n",
      "Epoch 26/101\n",
      "[C1 valid: -0.502595, C2 fake: 0.503146], [G loss: 0.015108, mse: 0.015738]\n",
      "Epoch 27/101\n",
      "[C1 valid: -0.503865, C2 fake: 0.502728], [G loss: 0.017272, mse: 0.018153]\n",
      "Epoch 28/101\n",
      "[C1 valid: -0.503111, C2 fake: 0.501538], [G loss: 0.019189, mse: 0.019965]\n",
      "Epoch 29/101\n",
      "[C1 valid: -0.501864, C2 fake: 0.502402], [G loss: 0.017075, mse: 0.017700]\n",
      "Epoch 30/101\n",
      "[C1 valid: -0.502175, C2 fake: 0.504375], [G loss: 0.014956, mse: 0.015586]\n",
      "Epoch 31/101\n",
      "[C1 valid: -0.505576, C2 fake: 0.508974], [G loss: 0.014759, mse: 0.015319]\n",
      "Epoch 32/101\n",
      "[C1 valid: -0.504065, C2 fake: 0.510382], [G loss: 0.020521, mse: 0.020992]\n",
      "Epoch 33/101\n",
      "[C1 valid: -0.504970, C2 fake: 0.513662], [G loss: 0.020291, mse: 0.020781]\n",
      "Epoch 34/101\n",
      "[C1 valid: -0.504663, C2 fake: 0.509629], [G loss: 0.011111, mse: 0.011709]\n",
      "Epoch 35/101\n",
      "[C1 valid: -0.503572, C2 fake: 0.505728], [G loss: 0.013253, mse: 0.013812]\n",
      "Epoch 36/101\n",
      "[C1 valid: -0.503414, C2 fake: 0.505554], [G loss: 0.013900, mse: 0.014405]\n",
      "Epoch 37/101\n",
      "[C1 valid: -0.503293, C2 fake: 0.505097], [G loss: 0.015438, mse: 0.015830]\n",
      "Epoch 38/101\n",
      "[C1 valid: -0.502596, C2 fake: 0.503116], [G loss: 0.019299, mse: 0.019924]\n",
      "Epoch 39/101\n",
      "[C1 valid: -0.504604, C2 fake: 0.505615], [G loss: 0.010084, mse: 0.010658]\n",
      "Epoch 40/101\n",
      "[C1 valid: -0.503483, C2 fake: 0.505609], [G loss: 0.011013, mse: 0.011536]\n",
      "Epoch 41/101\n",
      "[C1 valid: -0.524740, C2 fake: 0.487955], [G loss: 0.019184, mse: 0.019734]\n",
      "Epoch 42/101\n",
      "[C1 valid: -0.509311, C2 fake: 0.497010], [G loss: 0.014907, mse: 0.015597]\n",
      "Epoch 43/101\n",
      "[C1 valid: -0.513412, C2 fake: 0.498333], [G loss: 0.012410, mse: 0.012793]\n",
      "Epoch 44/101\n",
      "[C1 valid: -0.508753, C2 fake: 0.499539], [G loss: 0.010816, mse: 0.011384]\n",
      "Epoch 45/101\n",
      "[C1 valid: -0.508388, C2 fake: 0.499827], [G loss: 0.008365, mse: 0.008863]\n",
      "Epoch 46/101\n",
      "[C1 valid: -0.508307, C2 fake: 0.501531], [G loss: 0.012839, mse: 0.013347]\n",
      "Epoch 47/101\n",
      "[C1 valid: -0.508448, C2 fake: 0.501911], [G loss: 0.009522, mse: 0.010025]\n",
      "Epoch 48/101\n",
      "[C1 valid: -0.506154, C2 fake: 0.502540], [G loss: 0.008517, mse: 0.009015]\n",
      "Epoch 49/101\n",
      "[C1 valid: -0.506206, C2 fake: 0.502511], [G loss: 0.010239, mse: 0.010787]\n",
      "Epoch 50/101\n",
      "[C1 valid: -0.503909, C2 fake: 0.503549], [G loss: 0.011798, mse: 0.012282]\n",
      "Epoch 51/101\n",
      "[C1 valid: -0.494916, C2 fake: 0.490720], [G loss: 0.010526, mse: 0.011050]\n",
      "Epoch 52/101\n",
      "[C1 valid: -0.500812, C2 fake: 0.498331], [G loss: 0.017296, mse: 0.017906]\n",
      "Epoch 53/101\n",
      "[C1 valid: -0.501293, C2 fake: 0.500572], [G loss: 0.007848, mse: 0.008478]\n",
      "Epoch 54/101\n",
      "[C1 valid: -0.501648, C2 fake: 0.503239], [G loss: 0.017334, mse: 0.017854]\n",
      "Epoch 55/101\n",
      "[C1 valid: -0.501507, C2 fake: 0.500426], [G loss: 0.010664, mse: 0.011153]\n",
      "Epoch 56/101\n",
      "[C1 valid: -0.504036, C2 fake: 0.498547], [G loss: 0.020554, mse: 0.021087]\n",
      "Epoch 57/101\n",
      "[C1 valid: -0.504433, C2 fake: 0.498067], [G loss: 0.009354, mse: 0.009765]\n",
      "Epoch 58/101\n",
      "[C1 valid: -0.502690, C2 fake: 0.498049], [G loss: 0.009923, mse: 0.010405]\n",
      "Epoch 59/101\n",
      "[C1 valid: -0.502738, C2 fake: 0.498731], [G loss: 0.011513, mse: 0.011889]\n",
      "Epoch 60/101\n",
      "[C1 valid: -0.503349, C2 fake: 0.500043], [G loss: 0.008551, mse: 0.009162]\n",
      "Epoch 61/101\n",
      "[C1 valid: -0.515174, C2 fake: 0.503831], [G loss: 0.008360, mse: 0.008904]\n",
      "Epoch 62/101\n",
      "[C1 valid: -0.505891, C2 fake: 0.498534], [G loss: 0.008164, mse: 0.008593]\n",
      "Epoch 63/101\n",
      "[C1 valid: -0.504763, C2 fake: 0.504343], [G loss: 0.009618, mse: 0.010261]\n",
      "Epoch 64/101\n",
      "[C1 valid: -0.502335, C2 fake: 0.504071], [G loss: 0.007193, mse: 0.007692]\n",
      "Epoch 65/101\n",
      "[C1 valid: -0.501750, C2 fake: 0.505672], [G loss: 0.009202, mse: 0.009597]\n",
      "Epoch 66/101\n",
      "[C1 valid: -0.498847, C2 fake: 0.503567], [G loss: 0.010259, mse: 0.010834]\n",
      "Epoch 67/101\n",
      "[C1 valid: -0.500101, C2 fake: 0.503247], [G loss: 0.006903, mse: 0.007462]\n",
      "Epoch 68/101\n",
      "[C1 valid: -0.502616, C2 fake: 0.501845], [G loss: 0.005979, mse: 0.006667]\n",
      "Epoch 69/101\n",
      "[C1 valid: -0.502749, C2 fake: 0.501240], [G loss: 0.006428, mse: 0.007001]\n",
      "Epoch 70/101\n",
      "[C1 valid: -0.501920, C2 fake: 0.502308], [G loss: 0.006489, mse: 0.007100]\n",
      "Epoch 71/101\n",
      "[C1 valid: -0.501270, C2 fake: 0.504488], [G loss: 0.007384, mse: 0.007889]\n",
      "Epoch 72/101\n",
      "[C1 valid: -0.500607, C2 fake: 0.503018], [G loss: 0.014035, mse: 0.014645]\n",
      "Epoch 73/101\n",
      "[C1 valid: -0.504918, C2 fake: 0.504593], [G loss: 0.014808, mse: 0.015334]\n",
      "Epoch 74/101\n",
      "[C1 valid: -0.502789, C2 fake: 0.503523], [G loss: 0.012169, mse: 0.012783]\n",
      "Epoch 75/101\n",
      "[C1 valid: -0.504565, C2 fake: 0.500478], [G loss: 0.008815, mse: 0.009379]\n",
      "Epoch 76/101\n",
      "[C1 valid: -0.503702, C2 fake: 0.498360], [G loss: 0.007206, mse: 0.007755]\n",
      "Epoch 77/101\n",
      "[C1 valid: -0.503444, C2 fake: 0.498646], [G loss: 0.008199, mse: 0.008585]\n",
      "Epoch 78/101\n",
      "[C1 valid: -0.504231, C2 fake: 0.500735], [G loss: 0.005366, mse: 0.005688]\n",
      "Epoch 79/101\n",
      "[C1 valid: -0.504693, C2 fake: 0.500334], [G loss: 0.006536, mse: 0.006871]\n",
      "Epoch 80/101\n",
      "[C1 valid: -0.504550, C2 fake: 0.502258], [G loss: 0.008166, mse: 0.008642]\n",
      "Epoch 81/101\n",
      "[C1 valid: -0.498011, C2 fake: 0.508118], [G loss: 0.008570, mse: 0.009075]\n",
      "Epoch 82/101\n",
      "[C1 valid: -0.502490, C2 fake: 0.502836], [G loss: 0.010622, mse: 0.011364]\n",
      "Epoch 83/101\n",
      "[C1 valid: -0.503261, C2 fake: 0.502822], [G loss: 0.020488, mse: 0.021001]\n",
      "Epoch 84/101\n",
      "[C1 valid: -0.502183, C2 fake: 0.503686], [G loss: 0.008941, mse: 0.009595]\n",
      "Epoch 85/101\n",
      "[C1 valid: -0.504789, C2 fake: 0.504928], [G loss: 0.007583, mse: 0.008080]\n",
      "Epoch 86/101\n",
      "[C1 valid: -0.504570, C2 fake: 0.503788], [G loss: 0.013311, mse: 0.013762]\n",
      "Epoch 87/101\n",
      "[C1 valid: -0.501779, C2 fake: 0.503697], [G loss: 0.007062, mse: 0.007612]\n",
      "Epoch 88/101\n",
      "[C1 valid: -0.501785, C2 fake: 0.503139], [G loss: 0.007460, mse: 0.007877]\n",
      "Epoch 89/101\n",
      "[C1 valid: -0.503747, C2 fake: 0.503283], [G loss: 0.006875, mse: 0.007303]\n",
      "Epoch 90/101\n",
      "[C1 valid: -0.505222, C2 fake: 0.502879], [G loss: 0.006195, mse: 0.006772]\n",
      "Epoch 91/101\n",
      "[C1 valid: -0.519725, C2 fake: 0.527138], [G loss: 0.004018, mse: 0.004349]\n",
      "Epoch 92/101\n"
     ]
    },
    {
     "name": "stdout",
     "output_type": "stream",
     "text": [
      "[C1 valid: -0.514974, C2 fake: 0.515128], [G loss: 0.006747, mse: 0.007121]\n",
      "Epoch 93/101\n",
      "[C1 valid: -0.510207, C2 fake: 0.514310], [G loss: 0.007076, mse: 0.007442]\n",
      "Epoch 94/101\n",
      "[C1 valid: -0.511935, C2 fake: 0.508269], [G loss: 0.005589, mse: 0.005979]\n",
      "Epoch 95/101\n",
      "[C1 valid: -0.510943, C2 fake: 0.511432], [G loss: 0.006687, mse: 0.007189]\n",
      "Epoch 96/101\n",
      "[C1 valid: -0.513770, C2 fake: 0.511078], [G loss: 0.007207, mse: 0.007768]\n",
      "Epoch 97/101\n",
      "[C1 valid: -0.511794, C2 fake: 0.508959], [G loss: 0.009348, mse: 0.009961]\n",
      "Epoch 98/101\n",
      "[C1 valid: -0.509907, C2 fake: 0.506841], [G loss: 0.005492, mse: 0.006016]\n",
      "Epoch 99/101\n",
      "[C1 valid: -0.507305, C2 fake: 0.507245], [G loss: 0.008367, mse: 0.008708]\n",
      "Epoch 100/101\n",
      "[C1 valid: -0.507411, C2 fake: 0.508078], [G loss: 0.004860, mse: 0.005473]\n",
      "Epoch 101/101\n",
      "[C1 valid: -0.511538, C2 fake: 0.493194], [G loss: 0.005387, mse: 0.005936]\n"
     ]
    }
   ],
   "source": [
    "hist = aae.train(Z,BATCH_SIZE,train_dataset, epochs, scaler, scaled,X_train_scaled)"
   ]
  },
  {
   "cell_type": "markdown",
   "metadata": {},
   "source": [
    "### predict from the decoder"
   ]
  },
  {
   "cell_type": "code",
   "execution_count": 15,
   "metadata": {},
   "outputs": [
    {
     "name": "stdout",
     "output_type": "stream",
     "text": [
      "Predicted Values: (1000, 2)\n",
      "Predicted Values: (1000, 2)\n"
     ]
    },
    {
     "data": {
      "image/png": "[encoded data removed]",
      "text/plain": [
       "<Figure size 432x288 with 1 Axes>"
      ]
     },
     "metadata": {
      "needs_background": "light"
     },
     "output_type": "display_data"
    }
   ],
   "source": [
    "#predict the labels of the data values on the basis of the trained model.\n",
    "predicted_values2 = aae.decoder.predict(aae.encoder(X_train_scaled))\n",
    "#sampling from the latent space without prediction\n",
    "latent_values = tf.random.normal([1000, Z])\n",
    "\n",
    "#predict the labels of the data values on the basis of the trained model.\n",
    "predicted_values = aae.decoder.predict(latent_values)\n",
    "\n",
    "\n",
    "if scaled == '-1-1':\n",
    "    predicted_values[:,:]=(predicted_values[:,:])\n",
    "    predicted_values2[:,:]=(predicted_values2[:,:])\n",
    "    predicted_values = scaler.inverse_transform(predicted_values)\n",
    "    predicted_values2 = scaler.inverse_transform(predicted_values2)\n",
    "elif scaled =='0-1':\n",
    "    predicted_values = scaler.inverse_transform(predicted_values)\n",
    "    \n",
    "\n",
    "print(\"Predicted Values:\",predicted_values.shape)\n",
    "print(\"Predicted Values:\",predicted_values2.shape)\n",
    "plt.scatter(X_train, y_train)\n",
    "plt.scatter(predicted_values[:,0],predicted_values[:,1])\n",
    "plt.scatter(predicted_values2[:,0],predicted_values2[:,1])\n",
    "plt.ylabel('Y')\n",
    "plt.xlabel('X')\n",
    "plt.tight_layout()\n"
   ]
  },
  {
   "cell_type": "markdown",
   "metadata": {},
   "source": [
    "### Applying the prediction function"
   ]
  },
  {
   "cell_type": "code",
   "execution_count": 11,
   "metadata": {},
   "outputs": [
    {
     "name": "stdout",
     "output_type": "stream",
     "text": [
      "input_test : (400, 2)\n"
     ]
    },
    {
     "data": {
      "image/png": "[encoded data removed]",
      "text/plain": [
       "<Figure size 432x288 with 1 Axes>"
      ]
     },
     "metadata": {
      "needs_background": "light"
     },
     "output_type": "display_data"
    }
   ],
   "source": [
    "# define these for desired prediction\n",
    "x_input = [-3,-1,1,3]\n",
    "n_points = 400\n",
    "y_min = -1\n",
    "y_max = 1\n",
    "\n",
    "\n",
    "# produces an input of fixed x coordinates with random y values\n",
    "predict1 = np.full((n_points//4, n_features), x_input[0])\n",
    "predict2 = np.full((n_points//4, n_features), x_input[1])\n",
    "predict3 = np.full((n_points//4, n_features), x_input[2])\n",
    "predict4 = np.full((n_points//4, n_features), x_input[3])\n",
    "predictthis = np.concatenate((predict1, predict2, predict3, predict4))\n",
    "\n",
    "input_test = predictthis.reshape(n_points, n_features).astype('float32')\n",
    "\n",
    "\n",
    "print(\"input_test :\",input_test.shape)\n",
    "plt.scatter(input_test[:,0],input_test[:,1] ,c='grey')\n",
    "plt.ylabel('Y')\n",
    "plt.xlabel('X')\n",
    "plt.tight_layout()\n",
    "    "
   ]
  },
  {
   "cell_type": "code",
   "execution_count": 25,
   "metadata": {},
   "outputs": [
    {
     "name": "stdout",
     "output_type": "stream",
     "text": [
      "X_generated : (400, 2)\n"
     ]
    }
   ],
   "source": [
    "#X_generated = aae.generator.predict(input_test)\n",
    "X_generated = decoder(encoder.predict(input_test))\n",
    "                              \n",
    "print(\"X_generated :\",X_generated.shape)"
   ]
  },
  {
   "cell_type": "code",
   "execution_count": 26,
   "metadata": {},
   "outputs": [
    {
     "name": "stdout",
     "output_type": "stream",
     "text": [
      "Generated Data: (400, 2)\n"
     ]
    },
    {
     "data": {
      "image/png": "[encoded data removed]",
      "text/plain": [
       "<Figure size 432x288 with 1 Axes>"
      ]
     },
     "metadata": {
      "needs_background": "light"
     },
     "output_type": "display_data"
    }
   ],
   "source": [
    "if scenario in (\"3d\", \"helix\"):\n",
    "    print(\"latent_space=\",latent_space)\n",
    "    print(\"Epochs=\",epochs)\n",
    "    print(\"BATCH_SIZE=\",BATCH_SIZE)\n",
    "    print(\"use_bias=\",use_bias)\n",
    "    \n",
    "    ax = plt.subplot(projection='3d')\n",
    "    ax.scatter(X_generated[:,0], X_generated[:,1], X_generated[:,2], label='Generated Data')\n",
    "\n",
    "\n",
    "    ax.set_zlabel('Z')\n",
    "    ax.set_ylabel('Y')\n",
    "    ax.set_xlabel('X')\n",
    "\n",
    "    plt.legend(loc='best')\n",
    "    plt.tight_layout()\n",
    "    \n",
    "    print(\"X-Y 2D slices:\")\n",
    "    fig, axes = plt.subplots(nrows=1, ncols=3, figsize=(15, 5), sharey=False, sharex=False)\n",
    "    plt.ylim(-1.5,1.5)\n",
    "    plt.xlim(-1.5,1.5)\n",
    "    axes[0].scatter(X_train[:,0],X_train[:,1])\n",
    "    axes[0].scatter(X_generated[:,0],X_generated[:,1])\n",
    "    axes[0].set_xlabel(\"X\")\n",
    "    axes[0].set_ylabel(\"Y\")\n",
    "    \n",
    "    plt.ylim(-1.5,1.5)\n",
    "    plt.xlim(-2,22)\n",
    "    axes[1].scatter(X_train[:,1],y_train)\n",
    "    axes[1].scatter(X_generated[:,1],X_generated[:,2])\n",
    "    axes[1].set_xlabel(\"Y\")\n",
    "    axes[1].set_ylabel(\"Z\")\n",
    "    \n",
    "    plt.xlim(-1.5,1.5)\n",
    "    plt.ylim(-2,22)\n",
    "    axes[2].scatter(X_train[:,0],y_train)\n",
    "    axes[2].scatter(X_generated[:,0],X_generated[:,2])\n",
    "    axes[2].set_xlabel(\"X\")\n",
    "    axes[2].set_ylabel(\"Z\")\n",
    "    \n",
    "    plt.tight_layout()\n",
    "    \n",
    "\n",
    "    fig, axes = plt.subplots(nrows=1, ncols=3, figsize=(15, 5), sharey=False, sharex=False)\n",
    "    \n",
    "    ac=np.where(np.logical_and(X_train[:,0]>=-0.8-0.05,X_train[:,0]<=-0.8+0.05),X_train[:,1],None)\n",
    "    ad=np.where(np.logical_and(X_generated[:,0]>=-0.8-0.05,X_generated[:,0]<=-0.8+0.05),X_generated[:,1],None)\n",
    "    axes[0].scatter(ac,y_train)\n",
    "    axes[0].scatter(ad,X_generated[:,2])\n",
    "    axes[0].set_xlabel(\"Y(X=-0.8)\")\n",
    "    axes[0].set_ylabel(\"Y\")\n",
    "    \n",
    "    ae=np.where(np.logical_and(X_train[:,0]>=0.0-0.05,X_train[:,0]<=0.0+0.05),X_train[:,1],None)\n",
    "    af=np.where(np.logical_and(X_generated[:,0]>=0.0-0.05,X_generated[:,0]<=0.0+0.05),X_generated[:,1],None)\n",
    "    axes[1].scatter(ae,y_train)\n",
    "    axes[1].scatter(af,X_generated[:,2])\n",
    "    axes[1].set_xlabel(\"Y(X=0.0)\")\n",
    "    axes[1].set_ylabel(\"Z\")\n",
    "    \n",
    "    ag=np.where(np.logical_and(X_train[:,0]>=0.8-0.05,X_train[:,0]<=0.8+0.05),X_train[:,1],None)\n",
    "    ah=np.where(np.logical_and(X_generated[:,0]>=0.8-0.05,X_generated[:,0]<=0.8+0.05),X_generated[:,1],None)\n",
    "    axes[2].scatter(ag,y_train)\n",
    "    axes[2].scatter(ah,X_generated[:,2])\n",
    "    axes[2].set_xlabel(\"Y(X=0.8)\")\n",
    "    axes[2].set_ylabel(\"Z\")\n",
    "    \n",
    "    plt.tight_layout()\n",
    "    \n",
    "    \n",
    "    \n",
    "    fig, axes = plt.subplots(nrows=1, ncols=3, figsize=(15, 5), sharey=False, sharex=False)\n",
    "    ac=np.where(np.logical_and(X_train[:,1]>=0.2-0.05,X_train[:,1]<=0.2+0.05),X_train[:,0],None)\n",
    "    ad=np.where(np.logical_and(X_generated[:,1]>=0.2-0.05,X_generated[:,1]<=0.2+0.05),X_generated[:,0],None)\n",
    "    axes[0].scatter(ac,y_train)\n",
    "    axes[0].scatter(ad,X_generated[:,2])\n",
    "    axes[0].set_xlabel(\"X(Y=0.2)\")\n",
    "    axes[0].set_ylabel(\"Z\")\n",
    "    \n",
    "    ae=np.where(np.logical_and(X_train[:,1]>=0.5-0.05,X_train[:,1]<=0.5+0.05),X_train[:,0],None)\n",
    "    af=np.where(np.logical_and(X_generated[:,1]>=0.5-0.05,X_generated[:,1]<=0.5+0.05),X_generated[:,0],None)\n",
    "    axes[1].scatter(ae,y_train)\n",
    "    axes[1].scatter(af,X_generated[:,2])\n",
    "    axes[1].set_xlabel(\"X(Y=0.5)\")\n",
    "    axes[1].set_ylabel(\"Z\")\n",
    "    \n",
    "    ag=np.where(np.logical_and(X_train[:,1]>=0.8-0.05,X_train[:,1]<=0.8+0.05),X_train[:,0],None)\n",
    "    ah=np.where(np.logical_and(X_generated[:,1]>=0.8-0.05,X_generated[:,1]<=0.8+0.05),X_generated[:,0],None)\n",
    "    axes[2].scatter(ag,y_train)\n",
    "    axes[2].scatter(ah,X_generated[:,2])\n",
    "    axes[2].set_xlabel(\"X(Y=0.8)\")\n",
    "    axes[2].set_ylabel(\"Z\")\n",
    "    \n",
    "    \n",
    "    plt.tight_layout()\n",
    "    \n",
    "    \n",
    "else:\n",
    "    print(\"Generated Data:\",X_generated.shape)\n",
    "    plt.scatter(X_train, y_train,label=\"Sample Data\")\n",
    "    plt.scatter(X_generated[:,0],X_generated[:,1])\n",
    "    plt.ylabel('Y')\n",
    "    plt.xlabel('X')\n",
    "    plt.tight_layout()\n",
    "    "
   ]
  },
  {
   "cell_type": "code",
   "execution_count": null,
   "metadata": {},
   "outputs": [],
   "source": []
  }
 ],
 "metadata": {
  "kernelspec": {
   "display_name": "Python 3",
   "language": "python",
   "name": "python3"
  },
  "language_info": {
   "codemirror_mode": {
    "name": "ipython",
    "version": 3
   },
   "file_extension": ".py",
   "mimetype": "text/x-python",
   "name": "python",
   "nbconvert_exporter": "python",
   "pygments_lexer": "ipython3",
   "version": "3.8.5"
  }
 },
 "nbformat": 4,
 "nbformat_minor": 4
}
